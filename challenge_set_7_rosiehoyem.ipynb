{
 "cells": [
  {
   "cell_type": "markdown",
   "metadata": {},
   "source": [
    "# Topic:        Challenge Set 7\n",
    "# Subject:      Pandas Challenges\n",
    "# Date:         02/13/2017\n",
    "# Name:         Rosie Hoyem"
   ]
  },
  {
   "cell_type": "code",
   "execution_count": 145,
   "metadata": {
    "collapsed": true
   },
   "outputs": [],
   "source": [
    "%matplotlib inline\n",
    "\n",
    "from __future__ import print_function\n",
    "from statsmodels.compat import lzip\n",
    "import statsmodels\n",
    "import numpy as np\n",
    "import pandas as pd\n",
    "import seaborn as sns\n",
    "import matplotlib.pyplot as plt\n",
    "from scipy import stats\n",
    "\n",
    "from statsmodels.stats.outliers_influence import OLSInfluence\n",
    "from sklearn.model_selection import cross_val_score"
   ]
  },
  {
   "cell_type": "markdown",
   "metadata": {},
   "source": [
    "## Topic: Classification\n",
    "\n",
    "**Settings: Where applicable, use test_size=.30, random_state=4444. This will permit comparison of results across users.\n",
    "\n",
    "Data:\n",
    "\n",
    "Challenges 1-10: congressional votes Congressional Voting Records Dataset\n",
    "\n",
    "Challenge 11: movie data\n",
    "\n",
    "Challenge 12: breast cancer surgery Haberman Survival Dataset\n",
    "\n",
    "Data – Congressional Votes\n",
    "\n",
    "Download the congressional votes data from here:Congressional Voting Records Dataset\n",
    "\n",
    "These are votes of U.S. House of Representatives Congressmen on 16 key issues in 1984.\n",
    "\n",
    "Read the description of the fields and download the data: house-votes-84.data\n",
    "\n",
    "We will try to see if we can predict the house members' party based on their votes.\n",
    "\n",
    "We will also use some of the general machine learning tools we learned (a bit more efficiently this time)."
   ]
  },
  {
   "cell_type": "markdown",
   "metadata": {},
   "source": [
    "**Challenge 1**\n",
    "\n",
    "Load the data into a pandas dataframe. Replace 'y's with 1s, 'n's with 0s.\n",
    "\n",
    "Now, almost every representative has a ?. This represents the absence of a vote (they were absent or some other similar reason). If we dropped all the rows that had a ?, we would throw out most of our data. Instead, we will replace ? with the best guess in the Bayesian sense: in the absence of any other information, we will say that the probability of the representative saying YES is the ratio of others that said YES over the whole votes.\n",
    "\n",
    "So, convert each ? to this probability (when yes=1 and no=0, this is the mean of the column)"
   ]
  },
  {
   "cell_type": "code",
   "execution_count": 93,
   "metadata": {
    "collapsed": false
   },
   "outputs": [],
   "source": [
    "column_names = ['party', 'handicapped_infants','water_project_cost_sharing',\\\n",
    "  'adoption_of_the_budget_resolution','physician_fee_freeze','el_salvador_aid', 'religious_groups_in_schools',\\\n",
    "  'anti_satellite_test_ban','aid_to_nicaraguan_contras','mx_missile', 'immigration', 'synfuels_corporation_cutback',\\\n",
    "  'education_spending','superfund_right_to_sue','crime','duty_free_exports','export_administration_act_south_africa']"
   ]
  },
  {
   "cell_type": "code",
   "execution_count": 99,
   "metadata": {
    "collapsed": false
   },
   "outputs": [
    {
     "name": "stdout",
     "output_type": "stream",
     "text": [
      "(435, 17)\n"
     ]
    },
    {
     "data": {
      "text/html": [
       "<div>\n",
       "<table border=\"1\" class=\"dataframe\">\n",
       "  <thead>\n",
       "    <tr style=\"text-align: right;\">\n",
       "      <th></th>\n",
       "      <th>party</th>\n",
       "      <th>handicapped_infants</th>\n",
       "      <th>water_project_cost_sharing</th>\n",
       "      <th>adoption_of_the_budget_resolution</th>\n",
       "      <th>physician_fee_freeze</th>\n",
       "      <th>el_salvador_aid</th>\n",
       "      <th>religious_groups_in_schools</th>\n",
       "      <th>anti_satellite_test_ban</th>\n",
       "      <th>aid_to_nicaraguan_contras</th>\n",
       "      <th>mx_missile</th>\n",
       "      <th>immigration</th>\n",
       "      <th>synfuels_corporation_cutback</th>\n",
       "      <th>education_spending</th>\n",
       "      <th>superfund_right_to_sue</th>\n",
       "      <th>crime</th>\n",
       "      <th>duty_free_exports</th>\n",
       "      <th>export_administration_act_south_africa</th>\n",
       "    </tr>\n",
       "  </thead>\n",
       "  <tbody>\n",
       "    <tr>\n",
       "      <th>0</th>\n",
       "      <td>republican</td>\n",
       "      <td>n</td>\n",
       "      <td>y</td>\n",
       "      <td>n</td>\n",
       "      <td>y</td>\n",
       "      <td>y</td>\n",
       "      <td>y</td>\n",
       "      <td>n</td>\n",
       "      <td>n</td>\n",
       "      <td>n</td>\n",
       "      <td>y</td>\n",
       "      <td>?</td>\n",
       "      <td>y</td>\n",
       "      <td>y</td>\n",
       "      <td>y</td>\n",
       "      <td>n</td>\n",
       "      <td>y</td>\n",
       "    </tr>\n",
       "    <tr>\n",
       "      <th>1</th>\n",
       "      <td>republican</td>\n",
       "      <td>n</td>\n",
       "      <td>y</td>\n",
       "      <td>n</td>\n",
       "      <td>y</td>\n",
       "      <td>y</td>\n",
       "      <td>y</td>\n",
       "      <td>n</td>\n",
       "      <td>n</td>\n",
       "      <td>n</td>\n",
       "      <td>n</td>\n",
       "      <td>n</td>\n",
       "      <td>y</td>\n",
       "      <td>y</td>\n",
       "      <td>y</td>\n",
       "      <td>n</td>\n",
       "      <td>?</td>\n",
       "    </tr>\n",
       "    <tr>\n",
       "      <th>2</th>\n",
       "      <td>democrat</td>\n",
       "      <td>?</td>\n",
       "      <td>y</td>\n",
       "      <td>y</td>\n",
       "      <td>?</td>\n",
       "      <td>y</td>\n",
       "      <td>y</td>\n",
       "      <td>n</td>\n",
       "      <td>n</td>\n",
       "      <td>n</td>\n",
       "      <td>n</td>\n",
       "      <td>y</td>\n",
       "      <td>n</td>\n",
       "      <td>y</td>\n",
       "      <td>y</td>\n",
       "      <td>n</td>\n",
       "      <td>n</td>\n",
       "    </tr>\n",
       "    <tr>\n",
       "      <th>3</th>\n",
       "      <td>democrat</td>\n",
       "      <td>n</td>\n",
       "      <td>y</td>\n",
       "      <td>y</td>\n",
       "      <td>n</td>\n",
       "      <td>?</td>\n",
       "      <td>y</td>\n",
       "      <td>n</td>\n",
       "      <td>n</td>\n",
       "      <td>n</td>\n",
       "      <td>n</td>\n",
       "      <td>y</td>\n",
       "      <td>n</td>\n",
       "      <td>y</td>\n",
       "      <td>n</td>\n",
       "      <td>n</td>\n",
       "      <td>y</td>\n",
       "    </tr>\n",
       "    <tr>\n",
       "      <th>4</th>\n",
       "      <td>democrat</td>\n",
       "      <td>y</td>\n",
       "      <td>y</td>\n",
       "      <td>y</td>\n",
       "      <td>n</td>\n",
       "      <td>y</td>\n",
       "      <td>y</td>\n",
       "      <td>n</td>\n",
       "      <td>n</td>\n",
       "      <td>n</td>\n",
       "      <td>n</td>\n",
       "      <td>y</td>\n",
       "      <td>?</td>\n",
       "      <td>y</td>\n",
       "      <td>y</td>\n",
       "      <td>y</td>\n",
       "      <td>y</td>\n",
       "    </tr>\n",
       "  </tbody>\n",
       "</table>\n",
       "</div>"
      ],
      "text/plain": [
       "        party handicapped_infants water_project_cost_sharing  \\\n",
       "0  republican                   n                          y   \n",
       "1  republican                   n                          y   \n",
       "2    democrat                   ?                          y   \n",
       "3    democrat                   n                          y   \n",
       "4    democrat                   y                          y   \n",
       "\n",
       "  adoption_of_the_budget_resolution physician_fee_freeze el_salvador_aid  \\\n",
       "0                                 n                    y               y   \n",
       "1                                 n                    y               y   \n",
       "2                                 y                    ?               y   \n",
       "3                                 y                    n               ?   \n",
       "4                                 y                    n               y   \n",
       "\n",
       "  religious_groups_in_schools anti_satellite_test_ban  \\\n",
       "0                           y                       n   \n",
       "1                           y                       n   \n",
       "2                           y                       n   \n",
       "3                           y                       n   \n",
       "4                           y                       n   \n",
       "\n",
       "  aid_to_nicaraguan_contras mx_missile immigration  \\\n",
       "0                         n          n           y   \n",
       "1                         n          n           n   \n",
       "2                         n          n           n   \n",
       "3                         n          n           n   \n",
       "4                         n          n           n   \n",
       "\n",
       "  synfuels_corporation_cutback education_spending superfund_right_to_sue  \\\n",
       "0                            ?                  y                      y   \n",
       "1                            n                  y                      y   \n",
       "2                            y                  n                      y   \n",
       "3                            y                  n                      y   \n",
       "4                            y                  ?                      y   \n",
       "\n",
       "  crime duty_free_exports export_administration_act_south_africa  \n",
       "0     y                 n                                      y  \n",
       "1     y                 n                                      ?  \n",
       "2     y                 n                                      n  \n",
       "3     n                 n                                      y  \n",
       "4     y                 y                                      y  "
      ]
     },
     "execution_count": 99,
     "metadata": {},
     "output_type": "execute_result"
    }
   ],
   "source": [
    "raw_df = pd.read_csv('data/house-votes-84.csv', names=column_names)\n",
    "print(raw_df.shape)\n",
    "raw_df.head()"
   ]
  },
  {
   "cell_type": "code",
   "execution_count": 100,
   "metadata": {
    "collapsed": false
   },
   "outputs": [],
   "source": [
    "def make_binary(df, cols):\n",
    "    convert = lambda x : 1 if x == 'y' else 0\n",
    "    for col in cols:\n",
    "        df[col] = df[col].apply(convert) \n",
    "    return df\n",
    "\n",
    "def convert_party(df,col):\n",
    "    convert = lambda x : 1 if x == 'democrat' else 0\n",
    "    df[col] = df[col].apply(convert) \n",
    "    return df\n",
    "\n",
    "def convert_quest(df, cols):\n",
    "    for col in cols:\n",
    "        yeses = len(df[df[col] == 'y'])\n",
    "        nos = len(df[df[col] == 'n'])\n",
    "        value = 'y' if yeses > nos else 'n'\n",
    "        df[col] = df[col].replace('?', value)\n",
    "    return df\n",
    "\n",
    "def cast_as_int(df, cols):\n",
    "    for col in cols:\n",
    "        df[col] = df[col].astype(int, copy=False)\n",
    "    return df"
   ]
  },
  {
   "cell_type": "code",
   "execution_count": 101,
   "metadata": {
    "collapsed": false
   },
   "outputs": [
    {
     "data": {
      "text/html": [
       "<div>\n",
       "<table border=\"1\" class=\"dataframe\">\n",
       "  <thead>\n",
       "    <tr style=\"text-align: right;\">\n",
       "      <th></th>\n",
       "      <th>party</th>\n",
       "      <th>handicapped_infants</th>\n",
       "      <th>water_project_cost_sharing</th>\n",
       "      <th>adoption_of_the_budget_resolution</th>\n",
       "      <th>physician_fee_freeze</th>\n",
       "      <th>el_salvador_aid</th>\n",
       "      <th>religious_groups_in_schools</th>\n",
       "      <th>anti_satellite_test_ban</th>\n",
       "      <th>aid_to_nicaraguan_contras</th>\n",
       "      <th>mx_missile</th>\n",
       "      <th>immigration</th>\n",
       "      <th>synfuels_corporation_cutback</th>\n",
       "      <th>education_spending</th>\n",
       "      <th>superfund_right_to_sue</th>\n",
       "      <th>crime</th>\n",
       "      <th>duty_free_exports</th>\n",
       "      <th>export_administration_act_south_africa</th>\n",
       "    </tr>\n",
       "  </thead>\n",
       "  <tbody>\n",
       "    <tr>\n",
       "      <th>0</th>\n",
       "      <td>0</td>\n",
       "      <td>0</td>\n",
       "      <td>1</td>\n",
       "      <td>0</td>\n",
       "      <td>1</td>\n",
       "      <td>1</td>\n",
       "      <td>1</td>\n",
       "      <td>0</td>\n",
       "      <td>0</td>\n",
       "      <td>0</td>\n",
       "      <td>1</td>\n",
       "      <td>0</td>\n",
       "      <td>1</td>\n",
       "      <td>1</td>\n",
       "      <td>1</td>\n",
       "      <td>0</td>\n",
       "      <td>1</td>\n",
       "    </tr>\n",
       "    <tr>\n",
       "      <th>1</th>\n",
       "      <td>0</td>\n",
       "      <td>0</td>\n",
       "      <td>1</td>\n",
       "      <td>0</td>\n",
       "      <td>1</td>\n",
       "      <td>1</td>\n",
       "      <td>1</td>\n",
       "      <td>0</td>\n",
       "      <td>0</td>\n",
       "      <td>0</td>\n",
       "      <td>0</td>\n",
       "      <td>0</td>\n",
       "      <td>1</td>\n",
       "      <td>1</td>\n",
       "      <td>1</td>\n",
       "      <td>0</td>\n",
       "      <td>1</td>\n",
       "    </tr>\n",
       "    <tr>\n",
       "      <th>2</th>\n",
       "      <td>1</td>\n",
       "      <td>0</td>\n",
       "      <td>1</td>\n",
       "      <td>1</td>\n",
       "      <td>0</td>\n",
       "      <td>1</td>\n",
       "      <td>1</td>\n",
       "      <td>0</td>\n",
       "      <td>0</td>\n",
       "      <td>0</td>\n",
       "      <td>0</td>\n",
       "      <td>1</td>\n",
       "      <td>0</td>\n",
       "      <td>1</td>\n",
       "      <td>1</td>\n",
       "      <td>0</td>\n",
       "      <td>0</td>\n",
       "    </tr>\n",
       "    <tr>\n",
       "      <th>3</th>\n",
       "      <td>1</td>\n",
       "      <td>0</td>\n",
       "      <td>1</td>\n",
       "      <td>1</td>\n",
       "      <td>0</td>\n",
       "      <td>1</td>\n",
       "      <td>1</td>\n",
       "      <td>0</td>\n",
       "      <td>0</td>\n",
       "      <td>0</td>\n",
       "      <td>0</td>\n",
       "      <td>1</td>\n",
       "      <td>0</td>\n",
       "      <td>1</td>\n",
       "      <td>0</td>\n",
       "      <td>0</td>\n",
       "      <td>1</td>\n",
       "    </tr>\n",
       "    <tr>\n",
       "      <th>4</th>\n",
       "      <td>1</td>\n",
       "      <td>1</td>\n",
       "      <td>1</td>\n",
       "      <td>1</td>\n",
       "      <td>0</td>\n",
       "      <td>1</td>\n",
       "      <td>1</td>\n",
       "      <td>0</td>\n",
       "      <td>0</td>\n",
       "      <td>0</td>\n",
       "      <td>0</td>\n",
       "      <td>1</td>\n",
       "      <td>0</td>\n",
       "      <td>1</td>\n",
       "      <td>1</td>\n",
       "      <td>1</td>\n",
       "      <td>1</td>\n",
       "    </tr>\n",
       "  </tbody>\n",
       "</table>\n",
       "</div>"
      ],
      "text/plain": [
       "   party  handicapped_infants  water_project_cost_sharing  \\\n",
       "0      0                    0                           1   \n",
       "1      0                    0                           1   \n",
       "2      1                    0                           1   \n",
       "3      1                    0                           1   \n",
       "4      1                    1                           1   \n",
       "\n",
       "   adoption_of_the_budget_resolution  physician_fee_freeze  el_salvador_aid  \\\n",
       "0                                  0                     1                1   \n",
       "1                                  0                     1                1   \n",
       "2                                  1                     0                1   \n",
       "3                                  1                     0                1   \n",
       "4                                  1                     0                1   \n",
       "\n",
       "   religious_groups_in_schools  anti_satellite_test_ban  \\\n",
       "0                            1                        0   \n",
       "1                            1                        0   \n",
       "2                            1                        0   \n",
       "3                            1                        0   \n",
       "4                            1                        0   \n",
       "\n",
       "   aid_to_nicaraguan_contras  mx_missile  immigration  \\\n",
       "0                          0           0            1   \n",
       "1                          0           0            0   \n",
       "2                          0           0            0   \n",
       "3                          0           0            0   \n",
       "4                          0           0            0   \n",
       "\n",
       "   synfuels_corporation_cutback  education_spending  superfund_right_to_sue  \\\n",
       "0                             0                   1                       1   \n",
       "1                             0                   1                       1   \n",
       "2                             1                   0                       1   \n",
       "3                             1                   0                       1   \n",
       "4                             1                   0                       1   \n",
       "\n",
       "   crime  duty_free_exports  export_administration_act_south_africa  \n",
       "0      1                  0                                       1  \n",
       "1      1                  0                                       1  \n",
       "2      1                  0                                       0  \n",
       "3      0                  0                                       1  \n",
       "4      1                  1                                       1  "
      ]
     },
     "execution_count": 101,
     "metadata": {},
     "output_type": "execute_result"
    }
   ],
   "source": [
    "cols = raw_df.ix[:,1:].columns\n",
    "\n",
    "df = convert_quest(raw_df, cols)\n",
    "df = make_binary(df, cols)\n",
    "df = convert_party(df, 'party')\n",
    "df = cast_as_int(df, df.columns)\n",
    "\n",
    "df.head()"
   ]
  },
  {
   "cell_type": "code",
   "execution_count": 108,
   "metadata": {
    "collapsed": false
   },
   "outputs": [
    {
     "name": "stdout",
     "output_type": "stream",
     "text": [
      "<class 'pandas.core.frame.DataFrame'>\n",
      "RangeIndex: 435 entries, 0 to 434\n",
      "Data columns (total 17 columns):\n",
      "party                                     435 non-null int64\n",
      "handicapped_infants                       435 non-null int64\n",
      "water_project_cost_sharing                435 non-null int64\n",
      "adoption_of_the_budget_resolution         435 non-null int64\n",
      "physician_fee_freeze                      435 non-null int64\n",
      "el_salvador_aid                           435 non-null int64\n",
      "religious_groups_in_schools               435 non-null int64\n",
      "anti_satellite_test_ban                   435 non-null int64\n",
      "aid_to_nicaraguan_contras                 435 non-null int64\n",
      "mx_missile                                435 non-null int64\n",
      "immigration                               435 non-null int64\n",
      "synfuels_corporation_cutback              435 non-null int64\n",
      "education_spending                        435 non-null int64\n",
      "superfund_right_to_sue                    435 non-null int64\n",
      "crime                                     435 non-null int64\n",
      "duty_free_exports                         435 non-null int64\n",
      "export_administration_act_south_africa    435 non-null int64\n",
      "dtypes: int64(17)\n",
      "memory usage: 57.9 KB\n"
     ]
    }
   ],
   "source": [
    "df.info()"
   ]
  },
  {
   "cell_type": "code",
   "execution_count": 241,
   "metadata": {
    "collapsed": true
   },
   "outputs": [],
   "source": [
    "import pickle\n",
    "\n",
    "with open('data/political_vote_data.pkl', 'wb') as picklefile:\n",
    "    pickle.dump(df, picklefile)"
   ]
  },
  {
   "cell_type": "markdown",
   "metadata": {},
   "source": [
    "**Challenge 2**\n",
    "\n",
    "Split the data into a test and training set. Use this function:\n",
    "\n",
    "`from sklearn.cross_validation import train_test_split`"
   ]
  },
  {
   "cell_type": "code",
   "execution_count": 102,
   "metadata": {
    "collapsed": false
   },
   "outputs": [],
   "source": [
    "from sklearn.cross_validation import train_test_split\n",
    "\n",
    "X = df.ix[:,1:]\n",
    "y = df['party']\n",
    "\n",
    "X_train, X_test, y_train, y_test = train_test_split(X, y, test_size=0.3, random_state=4444)"
   ]
  },
  {
   "cell_type": "markdown",
   "metadata": {},
   "source": [
    "**Challenge 3**\n",
    "\n",
    "Using scikit.learn's KNN algorithm, train a model that predicts the party (republican/democrat):\n",
    "\n",
    "`from sklearn.neighbors import KNeighborsClassifier`\n",
    "\n",
    "Try it with a lot of different k values (number of neighbors), from 1 to 20, and on the test set calculate the accuracy (number of correct predictions / number of all predictions) for each k\n",
    "\n",
    "You can use this to calculate accuracy:\n",
    "\n",
    "`from sklearn.metrics import accuracy_score`\n",
    "\n",
    "Which k value gives the highest accuracy?"
   ]
  },
  {
   "cell_type": "code",
   "execution_count": 116,
   "metadata": {
    "collapsed": false
   },
   "outputs": [
    {
     "name": "stdout",
     "output_type": "stream",
     "text": [
      "KNN 1: 0.916030534351\n",
      "KNN 2: 0.893129770992\n",
      "KNN 3: 0.916030534351\n",
      "KNN 4: 0.923664122137\n",
      "KNN 5: 0.916030534351\n",
      "KNN 6: 0.916030534351\n",
      "KNN 7: 0.916030534351\n",
      "KNN 8: 0.923664122137\n",
      "KNN 9: 0.908396946565\n",
      "KNN 10: 0.916030534351\n",
      "KNN 11: 0.923664122137\n",
      "KNN 12: 0.923664122137\n",
      "KNN 13: 0.923664122137\n",
      "KNN 14: 0.916030534351\n",
      "KNN 15: 0.923664122137\n",
      "KNN 16: 0.916030534351\n",
      "KNN 17: 0.908396946565\n",
      "KNN 18: 0.908396946565\n",
      "KNN 19: 0.908396946565\n",
      "KNN 20: 0.900763358779\n"
     ]
    }
   ],
   "source": [
    "from sklearn.neighbors import KNeighborsClassifier\n",
    "from sklearn.metrics import accuracy_score\n",
    "\n",
    "k_accs = []\n",
    "for k in range (1,21):\n",
    "    knn = KNeighborsClassifier(n_neighbors=k)\n",
    "    knn.fit(X_train, y_train)\n",
    "    y_pred = knn.predict(X_test)\n",
    "    acc = accuracy_score(y_test, y_pred)\n",
    "    k_accs.append(acc)\n",
    "    print(\"KNN \" + str(k) + \": \" + str(acc))\n"
   ]
  },
  {
   "cell_type": "markdown",
   "metadata": {},
   "source": [
    "**Challenge 4**\n",
    "\n",
    "Make a similar model but with LogisticRegression instead, calculate test accuracy."
   ]
  },
  {
   "cell_type": "code",
   "execution_count": 134,
   "metadata": {
    "collapsed": false
   },
   "outputs": [
    {
     "name": "stdout",
     "output_type": "stream",
     "text": [
      "Logit: 0.93893129771\n"
     ]
    }
   ],
   "source": [
    "from sklearn.linear_model import LogisticRegression\n",
    "\n",
    "logit = LogisticRegression()\n",
    "logit.fit(X_train, y_train)\n",
    "y_pred = lr.predict(X_test)\n",
    "print(\"Logit: \" + str(accuracy_score(y_test, y_pred)))"
   ]
  },
  {
   "cell_type": "markdown",
   "metadata": {},
   "source": [
    "**Challenge 5**\n",
    "\n",
    "Make a bar graph of democrats and republicans. How many of each are there?"
   ]
  },
  {
   "cell_type": "code",
   "execution_count": 86,
   "metadata": {
    "collapsed": false
   },
   "outputs": [
    {
     "data": {
      "image/png": "[encoded data removed]",
      "text/plain": [
       "<matplotlib.figure.Figure at 0x10f0af4e0>"
      ]
     },
     "metadata": {},
     "output_type": "display_data"
    }
   ],
   "source": [
    "sns.set_style(\"whitegrid\")\n",
    "ax = sns.countplot(x=df['party'], data=df)"
   ]
  },
  {
   "cell_type": "markdown",
   "metadata": {},
   "source": [
    "Make a very simple predictor that predicts 'democrat' for every incoming example.\n",
    "\n",
    "Just make a function that takes in an X --an array or matrix with input examples--, and returns an array of the same length as X, where each value is 'democrat'. For example, if X is three rows, your function should return ['democrat','democrat','democrat']. Make a y_predicted vector using this and measure its accuracy.\n",
    "\n",
    "Do the same with predicting 'republican' all the time and measure its accuracy."
   ]
  },
  {
   "cell_type": "code",
   "execution_count": 112,
   "metadata": {
    "collapsed": false
   },
   "outputs": [
    {
     "data": {
      "text/plain": [
       "[1, 1, 1, 1]"
      ]
     },
     "execution_count": 112,
     "metadata": {},
     "output_type": "execute_result"
    }
   ],
   "source": [
    "def predict_dem(series):\n",
    "    pred = []\n",
    "    for i in series:\n",
    "        pred.append(1)\n",
    "    return pred\n",
    "        \n",
    "predict_dem([1,0,1,1])"
   ]
  },
  {
   "cell_type": "code",
   "execution_count": 139,
   "metadata": {
    "collapsed": false
   },
   "outputs": [
    {
     "name": "stdout",
     "output_type": "stream",
     "text": [
      "KNN: 0.587786259542\n",
      "0.587786259542\n"
     ]
    }
   ],
   "source": [
    "x = predict_dem(y_test)\n",
    "\n",
    "print(\"KNN: \" + str(accuracy_score(y_test, x)))\n",
    "print(y_test.mean())"
   ]
  },
  {
   "cell_type": "code",
   "execution_count": 114,
   "metadata": {
    "collapsed": false
   },
   "outputs": [
    {
     "data": {
      "text/plain": [
       "[0, 0, 0, 0]"
      ]
     },
     "execution_count": 114,
     "metadata": {},
     "output_type": "execute_result"
    }
   ],
   "source": [
    "def predict_rep(series):\n",
    "    pred = []\n",
    "    for i in series:\n",
    "        pred.append(0)\n",
    "    return pred\n",
    "        \n",
    "predict_rep([1,0,1,1])"
   ]
  },
  {
   "cell_type": "markdown",
   "metadata": {},
   "source": [
    "**Challenge 6**\n",
    "\n",
    "Plot the accuracies as a function of k. Since k only matters for KNN, your logistic regression accuracy, 'democrat' predictor accuracy and 'republican' predictor accuracy will stay the same over all k, so each of these three will be a horizontal line. But the KNN accuracy will change with k."
   ]
  },
  {
   "cell_type": "code",
   "execution_count": 127,
   "metadata": {
    "collapsed": false
   },
   "outputs": [
    {
     "name": "stdout",
     "output_type": "stream",
     "text": [
      "[1, 2, 3, 4, 5, 6, 7, 8, 9, 10, 11, 12, 13, 14, 15, 16, 17, 18, 19, 20]\n",
      "[0.91603053435114501, 0.89312977099236646, 0.91603053435114501, 0.92366412213740456, 0.91603053435114501, 0.91603053435114501, 0.91603053435114501, 0.92366412213740456, 0.90839694656488545, 0.91603053435114501, 0.92366412213740456, 0.92366412213740456, 0.92366412213740456, 0.91603053435114501, 0.92366412213740456, 0.91603053435114501, 0.90839694656488545, 0.90839694656488545, 0.90839694656488545, 0.9007633587786259]\n"
     ]
    }
   ],
   "source": [
    "k_range = list(range(1,21))\n",
    "\n",
    "print(k_range)\n",
    "print(k_accs)"
   ]
  },
  {
   "cell_type": "code",
   "execution_count": 131,
   "metadata": {
    "collapsed": false
   },
   "outputs": [
    {
     "data": {
      "image/png": "[encoded data removed]",
      "text/plain": [
       "<matplotlib.figure.Figure at 0x1135692e8>"
      ]
     },
     "metadata": {},
     "output_type": "display_data"
    }
   ],
   "source": [
    "plt.plot(k_range, k_accs, 'o')\n",
    "plt.xlabel = \"K\"\n",
    "plt.ylabel = \"KNN Accuracy\""
   ]
  },
  {
   "cell_type": "markdown",
   "metadata": {},
   "source": [
    "**Challenge 7**\n",
    "\n",
    "Plot a learning curve for the logistic regression model. But instead of going through the painstaking steps of doing it yourself, use this function:\n",
    "\n",
    "`from sklearn.learning_curve import learning_curve`\n",
    "\n",
    "This will give you the m, training errors and testing errors. All you need to do is plot them. You don't even need to give it separate training/test sets. It will do crossvalidation all by itself. Easy, isn't it? : ) Remember, since it does cross-validation, it doesn't have a single training error or test error per m value. Instead, it has one for each fold (separate partition) of the cross validation. A good idea is to take the mean of these errors from different folds. This gives you a meaningful single number per m. What I mean is that doing something like:\n",
    "\n",
    "`train_cv_err = np.mean(train_err, axis=1)`\n",
    "\n",
    "`test_cv_err = np.mean(ts_err, axis=1)`"
   ]
  },
  {
   "cell_type": "code",
   "execution_count": 140,
   "metadata": {
    "collapsed": false
   },
   "outputs": [],
   "source": [
    "from sklearn.learning_curve import learning_curve"
   ]
  },
  {
   "cell_type": "code",
   "execution_count": 141,
   "metadata": {
    "collapsed": true
   },
   "outputs": [],
   "source": [
    "#plot_learning_curve(estimator, title, X, y, ylim=None, cv=None, n_jobs=1, train_sizes=np.linspace(.1, 1.0, 5))\n",
    "\n",
    "train_sizes, train_scores, valid_scores = learning_curve(LogisticRegression(), X, y, train_sizes=[50, 80, 110], cv=5)"
   ]
  },
  {
   "cell_type": "markdown",
   "metadata": {},
   "source": [
    "Before plotting m vs train_cv_err and m vs test_cv_err, where train_err and test_err are the vectors returned by the learning curve function. The np.mean(...., axis=1) means take the mean along axis 1 (axis 1 is the columns axis-- for each row, you have a bunch of columns, each corresponding to a cross validation fold, you are averaging these columns for each row).\n",
    "\n",
    "Draw the learning curve for KNN with the best k value as well."
   ]
  },
  {
   "cell_type": "code",
   "execution_count": null,
   "metadata": {
    "collapsed": true
   },
   "outputs": [],
   "source": []
  },
  {
   "cell_type": "markdown",
   "metadata": {},
   "source": [
    "**Challenge 8**\n",
    "\n",
    "This is a preview of many other classification algorithms that we will go over. Scikit.learn has the same interface for all of these, so you can use them exactly the same way as you did LogisticRegression and KNeighborsClassifier. Use each of these to classify your data and print the test accuracy of each:\n",
    "\n",
    "Gaussian Naive Bayes\n",
    "\n",
    "```\n",
    "from sklearn.naive_bayes import GaussianNB\n",
    "```\n",
    "\n",
    "SVM (Support Vector Machine) Classifier\n",
    "\n",
    "`from sklearn.svm import SVC`\n",
    "\n",
    "Decision Tree\n",
    "\n",
    "`from sklearn.tree import DecisionTreeClassifier`\n",
    "\n",
    "Random Forest\n",
    "\n",
    "`from sklearn.ensemble import RandomForestClassifier`"
   ]
  },
  {
   "cell_type": "code",
   "execution_count": 147,
   "metadata": {
    "collapsed": false
   },
   "outputs": [
    {
     "name": "stdout",
     "output_type": "stream",
     "text": [
      "GaussianNB: 0.93893129771\n"
     ]
    }
   ],
   "source": [
    "from sklearn.naive_bayes import GaussianNB\n",
    "\n",
    "gaus = GaussianNB()\n",
    "gaus.fit(X_train, y_train)\n",
    "y_pred = gaus.predict(X_test)\n",
    "print(\"GaussianNB: \" + str(accuracy_score(y_test, y_pred)))"
   ]
  },
  {
   "cell_type": "code",
   "execution_count": 149,
   "metadata": {
    "collapsed": false
   },
   "outputs": [
    {
     "name": "stdout",
     "output_type": "stream",
     "text": [
      "SVC: 0.954198473282\n"
     ]
    }
   ],
   "source": [
    "from sklearn.svm import SVC\n",
    "\n",
    "svc = SVC()\n",
    "svc.fit(X_train, y_train)\n",
    "y_pred = svc.predict(X_test)\n",
    "print(\"SVC: \" + str(accuracy_score(y_test, y_pred)))"
   ]
  },
  {
   "cell_type": "code",
   "execution_count": 150,
   "metadata": {
    "collapsed": false
   },
   "outputs": [
    {
     "name": "stdout",
     "output_type": "stream",
     "text": [
      "DecisionTreeClassifier: 0.923664122137\n"
     ]
    }
   ],
   "source": [
    "from sklearn.tree import DecisionTreeClassifier\n",
    "\n",
    "dectree = DecisionTreeClassifier()\n",
    "dectree.fit(X_train, y_train)\n",
    "y_pred = dectree.predict(X_test)\n",
    "print(\"DecisionTreeClassifier: \" + str(accuracy_score(y_test, y_pred)))"
   ]
  },
  {
   "cell_type": "code",
   "execution_count": 151,
   "metadata": {
    "collapsed": false
   },
   "outputs": [
    {
     "name": "stdout",
     "output_type": "stream",
     "text": [
      "RandomForestClassifier: 0.931297709924\n"
     ]
    }
   ],
   "source": [
    "from sklearn.ensemble import RandomForestClassifier\n",
    "\n",
    "randforest = RandomForestClassifier()\n",
    "randforest.fit(X_train, y_train)\n",
    "y_pred = randforest.predict(X_test)\n",
    "print(\"RandomForestClassifier: \" + str(accuracy_score(y_test, y_pred)))"
   ]
  },
  {
   "cell_type": "markdown",
   "metadata": {},
   "source": [
    "**Challenge 9**\n",
    "\n",
    "There is actually a way to do cross validation quickly to get your accuracy results for an algorithm, without separating training and test yourself:\n",
    "\n",
    "```\n",
    "from sklearn.cross_validation import cross_val_score\n",
    "```\n",
    "\n",
    "Just like the learning_curve function, this takes a classifier object, X and Y. Returns accuracy (or whatever score you prefer by using the scoring keyword argument). Of course, it will return a score for each cross validation fold, so to get the generalized accuracy, you need to take the mean of what it returns.\n",
    "\n",
    "Use this function to calculate the cross validation score of each of the classifiers you tried before."
   ]
  },
  {
   "cell_type": "code",
   "execution_count": 152,
   "metadata": {
    "collapsed": false
   },
   "outputs": [
    {
     "name": "stdout",
     "output_type": "stream",
     "text": [
      "[ 0.97727273  0.90909091  0.95454545  0.86363636  0.97727273  0.90909091\n",
      "  0.97727273  0.95348837  0.80952381  0.9047619 ]\n"
     ]
    }
   ],
   "source": [
    "from sklearn.cross_validation import cross_val_score\n",
    "\n",
    "scores = cross_val_score(knn, X, y, cv=10, scoring='accuracy')\n",
    "print(scores)"
   ]
  },
  {
   "cell_type": "code",
   "execution_count": 153,
   "metadata": {
    "collapsed": false
   },
   "outputs": [
    {
     "name": "stdout",
     "output_type": "stream",
     "text": [
      "[ 0.95454545  0.93181818  0.97727273  0.81818182  0.97727273  0.90909091\n",
      "  0.97727273  0.97674419  0.76190476  0.95238095]\n"
     ]
    }
   ],
   "source": [
    "scores = cross_val_score(gaus, X, y, cv=10, scoring='accuracy')\n",
    "print(scores)"
   ]
  },
  {
   "cell_type": "code",
   "execution_count": 154,
   "metadata": {
    "collapsed": false
   },
   "outputs": [
    {
     "name": "stdout",
     "output_type": "stream",
     "text": [
      "[ 0.97727273  0.95454545  0.97727273  0.95454545  1.          0.90909091\n",
      "  1.          0.97674419  0.83333333  0.97619048]\n"
     ]
    }
   ],
   "source": [
    "scores = cross_val_score(svc, X, y, cv=10, scoring='accuracy')\n",
    "print(scores)"
   ]
  },
  {
   "cell_type": "code",
   "execution_count": 155,
   "metadata": {
    "collapsed": false
   },
   "outputs": [
    {
     "name": "stdout",
     "output_type": "stream",
     "text": [
      "[ 0.97727273  0.97727273  1.          0.90909091  0.97727273  0.93181818\n",
      "  0.97727273  0.90697674  0.85714286  0.97619048]\n"
     ]
    }
   ],
   "source": [
    "scores = cross_val_score(dectree, X, y, cv=10, scoring='accuracy')\n",
    "print(scores)"
   ]
  },
  {
   "cell_type": "code",
   "execution_count": 163,
   "metadata": {
    "collapsed": false
   },
   "outputs": [
    {
     "name": "stdout",
     "output_type": "stream",
     "text": [
      "[ 0.97727273  0.97727273  0.95454545  0.97727273  0.97727273  0.90909091\n",
      "  1.          0.93023256  0.88095238  0.97619048]\n"
     ]
    },
    {
     "ename": "TypeError",
     "evalue": "ufunc 'add' did not contain a loop with signature matching types dtype('<U32') dtype('<U32') dtype('<U32')",
     "output_type": "error",
     "traceback": [
      "\u001b[0;31m---------------------------------------------------------------------------\u001b[0m",
      "\u001b[0;31mTypeError\u001b[0m                                 Traceback (most recent call last)",
      "\u001b[0;32m<ipython-input-163-43a27b33426b>\u001b[0m in \u001b[0;36m<module>\u001b[0;34m()\u001b[0m\n\u001b[1;32m      1\u001b[0m \u001b[0mscores\u001b[0m \u001b[0;34m=\u001b[0m \u001b[0mcross_val_score\u001b[0m\u001b[0;34m(\u001b[0m\u001b[0mrandforest\u001b[0m\u001b[0;34m,\u001b[0m \u001b[0mX\u001b[0m\u001b[0;34m,\u001b[0m \u001b[0my\u001b[0m\u001b[0;34m,\u001b[0m \u001b[0mcv\u001b[0m\u001b[0;34m=\u001b[0m\u001b[0;36m10\u001b[0m\u001b[0;34m,\u001b[0m \u001b[0mscoring\u001b[0m\u001b[0;34m=\u001b[0m\u001b[0;34m'accuracy'\u001b[0m\u001b[0;34m)\u001b[0m\u001b[0;34m\u001b[0m\u001b[0m\n\u001b[1;32m      2\u001b[0m \u001b[0mprint\u001b[0m\u001b[0;34m(\u001b[0m\u001b[0mscores\u001b[0m\u001b[0;34m)\u001b[0m\u001b[0;34m\u001b[0m\u001b[0m\n\u001b[0;32m----> 3\u001b[0;31m \u001b[0mprint\u001b[0m\u001b[0;34m(\u001b[0m\u001b[0;34m\"Mean: \"\u001b[0m \u001b[0;34m+\u001b[0m \u001b[0mnp\u001b[0m\u001b[0;34m.\u001b[0m\u001b[0mmean\u001b[0m\u001b[0;34m(\u001b[0m\u001b[0mscores\u001b[0m\u001b[0;34m)\u001b[0m\u001b[0;34m)\u001b[0m\u001b[0;34m\u001b[0m\u001b[0m\n\u001b[0m",
      "\u001b[0;31mTypeError\u001b[0m: ufunc 'add' did not contain a loop with signature matching types dtype('<U32') dtype('<U32') dtype('<U32')"
     ]
    }
   ],
   "source": [
    "scores = cross_val_score(randforest, X, y, cv=10, scoring='accuracy')\n",
    "print(scores)\n",
    "print(\"Mean: \" + np.mean(scores)"
   ]
  },
  {
   "cell_type": "markdown",
   "metadata": {},
   "source": [
    "**Challenge 10**\n",
    "\n",
    "Instead of 'democrat' or 'republican', can you predict the vote of a representative based on their other votes?\n",
    "\n",
    "Reload the data from scratch. Convert y-->1, n-->0.\n",
    "\n",
    "Choose one vote. Build a classifier (logistic regression or KNN), that uses the other votes (do not use the party as a feature) to predict if the vote will be 1 or 0.\n",
    "\n",
    "Convert each ? to the mode of the column (if a senator has not voted, make their vote 1 if most others voted 1, make it 0 if most others voted 0).\n",
    "\n",
    "Calculate the cross validation accuracy of your classifier for predicting how each representative will vote on the issue."
   ]
  },
  {
   "cell_type": "code",
   "execution_count": 143,
   "metadata": {
    "collapsed": false
   },
   "outputs": [],
   "source": [
    "X10 = df.ix[:,1:15]\n",
    "y10 = df[\"export_administration_act_south_africa\"]\n",
    "\n",
    "X10_train, X10_test, y10_train, y10_test = train_test_split(X, y, test_size=0.3, random_state=4444)"
   ]
  },
  {
   "cell_type": "code",
   "execution_count": 146,
   "metadata": {
    "collapsed": false
   },
   "outputs": [
    {
     "name": "stdout",
     "output_type": "stream",
     "text": [
      "[ 0.82222222  0.86666667  0.81818182  0.8372093   0.81395349  0.86046512\n",
      "  0.86046512  0.90697674  0.81395349  0.86046512]\n"
     ]
    }
   ],
   "source": [
    "knn = KNeighborsClassifier(n_neighbors=5)\n",
    "scores = cross_val_score(knn, X10, y10, cv=10, scoring='accuracy')\n",
    "print(scores)"
   ]
  },
  {
   "cell_type": "markdown",
   "metadata": {},
   "source": [
    "**Challenge 11**\n",
    "\n",
    "Back to movie data! Choose one categoric feature to predict. I chose MPAA Rating, but genre, month, etc. are all decent choices. If you don't have any non-numeric features, you can make two bins out of a numeric one (like \"Runtime>100 mins\" and \"Runtime<=100 mins\")"
   ]
  },
  {
   "cell_type": "code",
   "execution_count": 198,
   "metadata": {
    "collapsed": false
   },
   "outputs": [
    {
     "name": "stdout",
     "output_type": "stream",
     "text": [
      "(100, 7)\n"
     ]
    },
    {
     "data": {
      "text/html": [
       "<div>\n",
       "<table border=\"1\" class=\"dataframe\">\n",
       "  <thead>\n",
       "    <tr style=\"text-align: right;\">\n",
       "      <th></th>\n",
       "      <th>Title</th>\n",
       "      <th>Budget</th>\n",
       "      <th>DomesticTotalGross</th>\n",
       "      <th>Director</th>\n",
       "      <th>Rating</th>\n",
       "      <th>Runtime</th>\n",
       "      <th>ReleaseDate</th>\n",
       "    </tr>\n",
       "  </thead>\n",
       "  <tbody>\n",
       "    <tr>\n",
       "      <th>0</th>\n",
       "      <td>The Hunger Games: Catching Fire</td>\n",
       "      <td>130000000.0</td>\n",
       "      <td>424668047</td>\n",
       "      <td>Francis Lawrence</td>\n",
       "      <td>PG-13</td>\n",
       "      <td>146</td>\n",
       "      <td>2013-11-22 00:00:00</td>\n",
       "    </tr>\n",
       "    <tr>\n",
       "      <th>1</th>\n",
       "      <td>Iron Man 3</td>\n",
       "      <td>200000000.0</td>\n",
       "      <td>409013994</td>\n",
       "      <td>Shane Black</td>\n",
       "      <td>PG-13</td>\n",
       "      <td>129</td>\n",
       "      <td>2013-05-03 00:00:00</td>\n",
       "    </tr>\n",
       "    <tr>\n",
       "      <th>2</th>\n",
       "      <td>Frozen</td>\n",
       "      <td>150000000.0</td>\n",
       "      <td>400738009</td>\n",
       "      <td>Chris BuckJennifer Lee</td>\n",
       "      <td>PG</td>\n",
       "      <td>108</td>\n",
       "      <td>2013-11-22 00:00:00</td>\n",
       "    </tr>\n",
       "    <tr>\n",
       "      <th>3</th>\n",
       "      <td>Despicable Me 2</td>\n",
       "      <td>76000000.0</td>\n",
       "      <td>368061265</td>\n",
       "      <td>Pierre CoffinChris Renaud</td>\n",
       "      <td>PG</td>\n",
       "      <td>98</td>\n",
       "      <td>2013-07-03 00:00:00</td>\n",
       "    </tr>\n",
       "    <tr>\n",
       "      <th>4</th>\n",
       "      <td>Man of Steel</td>\n",
       "      <td>225000000.0</td>\n",
       "      <td>291045518</td>\n",
       "      <td>Zack Snyder</td>\n",
       "      <td>PG-13</td>\n",
       "      <td>143</td>\n",
       "      <td>2013-06-14 00:00:00</td>\n",
       "    </tr>\n",
       "  </tbody>\n",
       "</table>\n",
       "</div>"
      ],
      "text/plain": [
       "                             Title       Budget  DomesticTotalGross  \\\n",
       "0  The Hunger Games: Catching Fire  130000000.0           424668047   \n",
       "1                       Iron Man 3  200000000.0           409013994   \n",
       "2                           Frozen  150000000.0           400738009   \n",
       "3                  Despicable Me 2   76000000.0           368061265   \n",
       "4                     Man of Steel  225000000.0           291045518   \n",
       "\n",
       "                    Director Rating  Runtime          ReleaseDate  \n",
       "0           Francis Lawrence  PG-13      146  2013-11-22 00:00:00  \n",
       "1                Shane Black  PG-13      129  2013-05-03 00:00:00  \n",
       "2     Chris BuckJennifer Lee     PG      108  2013-11-22 00:00:00  \n",
       "3  Pierre CoffinChris Renaud     PG       98  2013-07-03 00:00:00  \n",
       "4                Zack Snyder  PG-13      143  2013-06-14 00:00:00  "
      ]
     },
     "execution_count": 198,
     "metadata": {},
     "output_type": "execute_result"
    }
   ],
   "source": [
    "movie_df = pd.read_csv('data/2013_movies.csv')\n",
    "print(movie_df.shape)\n",
    "movie_df.head()"
   ]
  },
  {
   "cell_type": "markdown",
   "metadata": {},
   "source": [
    "Make a bar graph of how many of each movie there is in the data. For example, with Ratings, show how many G, PG, PG-13, R movies there are, etc. (basically a histogram of your labels)."
   ]
  },
  {
   "cell_type": "code",
   "execution_count": 204,
   "metadata": {
    "collapsed": false
   },
   "outputs": [
    {
     "data": {
      "image/png": "[encoded data removed]",
      "text/plain": [
       "<matplotlib.figure.Figure at 0x113fb6390>"
      ]
     },
     "metadata": {},
     "output_type": "display_data"
    }
   ],
   "source": [
    "movie_df['Rating'].value_counts()\n",
    "sns.set_style(\"whitegrid\")\n",
    "ax = sns.countplot(x=movie_df['Rating'], data=movie_df)"
   ]
  },
  {
   "cell_type": "markdown",
   "metadata": {},
   "source": [
    "Predict your outcome variable (labels) using KNN and logistic regression. Calculate their accuracies."
   ]
  },
  {
   "cell_type": "code",
   "execution_count": 209,
   "metadata": {
    "collapsed": false
   },
   "outputs": [
    {
     "name": "stdout",
     "output_type": "stream",
     "text": [
      "<class 'pandas.core.frame.DataFrame'>\n",
      "Int64Index: 87 entries, 0 to 99\n",
      "Data columns (total 7 columns):\n",
      "Title                 87 non-null object\n",
      "Budget                87 non-null float64\n",
      "DomesticTotalGross    87 non-null int64\n",
      "Director              87 non-null object\n",
      "Rating                87 non-null object\n",
      "Runtime               87 non-null int64\n",
      "ReleaseDate           87 non-null object\n",
      "dtypes: float64(1), int64(2), object(4)\n",
      "memory usage: 5.4+ KB\n"
     ]
    }
   ],
   "source": [
    "movie_df = movie_df.dropna()\n",
    "movie_df.info()"
   ]
  },
  {
   "cell_type": "code",
   "execution_count": 215,
   "metadata": {
    "collapsed": true
   },
   "outputs": [],
   "source": [
    "from sklearn import preprocessing\n",
    "\n",
    "X11 = movie_df[['Budget', 'DomesticTotalGross', 'Runtime']]\n",
    "y11 = movie_df['Rating']\n",
    "\n",
    "# This issue appears to be here\n",
    "X11_scaled = preprocessing.scale(X11)\n",
    "\n",
    "X11_train, X11_test, y11_train, y11_test = train_test_split(X11_scaled, y11, test_size=0.3, random_state=4444)"
   ]
  },
  {
   "cell_type": "code",
   "execution_count": 231,
   "metadata": {
    "collapsed": false
   },
   "outputs": [
    {
     "name": "stdout",
     "output_type": "stream",
     "text": [
      "KNN Accuracy: 0.481481481481\n"
     ]
    }
   ],
   "source": [
    "knn11 = KNeighborsClassifier(n_neighbors=5)\n",
    "knn11.fit(X11_train, y11_train)\n",
    "y11_pred = knn11.predict(X11_test)\n",
    "acc = accuracy_score(y11_test, y11_pred)\n",
    "print(\"KNN Accuracy: \" + str(acc))"
   ]
  },
  {
   "cell_type": "code",
   "execution_count": 235,
   "metadata": {
    "collapsed": false
   },
   "outputs": [
    {
     "name": "stdout",
     "output_type": "stream",
     "text": [
      "LogisticRegression Accuracy: 0.481481481481\n"
     ]
    }
   ],
   "source": [
    "logit11 = LogisticRegression()\n",
    "logit11_results = logit11.fit(X11_train, y11_train)\n",
    "y11_pred = logit11.predict(X11_test)\n",
    "acc = accuracy_score(y11_test, y11_pred)\n",
    "print(\"LogisticRegression Accuracy: \" + str(acc))"
   ]
  },
  {
   "cell_type": "markdown",
   "metadata": {},
   "source": [
    "Make a baseline stupid predictor that always predicts the label that is present the most in the data. Calculate its accuracy on a test set."
   ]
  },
  {
   "cell_type": "code",
   "execution_count": 230,
   "metadata": {
    "collapsed": false
   },
   "outputs": [
    {
     "name": "stdout",
     "output_type": "stream",
     "text": [
      "Baseline Accuracy: 0.407407407407\n"
     ]
    }
   ],
   "source": [
    "def predict_pg13(series):\n",
    "    pred = []\n",
    "    for i in series:\n",
    "        pred.append('PG-13')\n",
    "    return pred\n",
    "\n",
    "y11_pg13pred = predict_pg13(y11_test)\n",
    "\n",
    "print(\"Baseline Accuracy: \" + str(accuracy_score(y11_test, y11_pg13pred)))"
   ]
  },
  {
   "cell_type": "markdown",
   "metadata": {},
   "source": [
    "How much better do KNN and logistic regression do versus the baseline?"
   ]
  },
  {
   "cell_type": "markdown",
   "metadata": {},
   "source": [
    "- Baseline Accuracy: 0.407407407407\n",
    "- KNN Accuracy: 0.481481481481\n",
    "- LogisticRegression Accuracy: 0.481481481481"
   ]
  },
  {
   "cell_type": "markdown",
   "metadata": {},
   "source": [
    "What are the coefficients of logistic regression? Which features affect the outcome how?"
   ]
  },
  {
   "cell_type": "code",
   "execution_count": 240,
   "metadata": {
    "collapsed": false
   },
   "outputs": [
    {
     "ename": "NameError",
     "evalue": "name 'sigmoid' is not defined",
     "output_type": "error",
     "traceback": [
      "\u001b[0;31m---------------------------------------------------------------------------\u001b[0m",
      "\u001b[0;31mNameError\u001b[0m                                 Traceback (most recent call last)",
      "\u001b[0;32m<ipython-input-240-df5d198f4ff2>\u001b[0m in \u001b[0;36m<module>\u001b[0;34m()\u001b[0m\n\u001b[0;32m----> 1\u001b[0;31m \u001b[0msigmoid\u001b[0m\u001b[0;34m(\u001b[0m \u001b[0mdot\u001b[0m\u001b[0;34m(\u001b[0m\u001b[0;34m[\u001b[0m\u001b[0mval1\u001b[0m\u001b[0;34m,\u001b[0m \u001b[0mval2\u001b[0m\u001b[0;34m,\u001b[0m \u001b[0;36m2\u001b[0m\u001b[0;34m]\u001b[0m\u001b[0;34m,\u001b[0m \u001b[0mlogit11\u001b[0m\u001b[0;34m.\u001b[0m\u001b[0mcoef_\u001b[0m\u001b[0;34m.\u001b[0m\u001b[0mT\u001b[0m\u001b[0;34m)\u001b[0m \u001b[0;34m)\u001b[0m\u001b[0;34m\u001b[0m\u001b[0m\n\u001b[0m",
      "\u001b[0;31mNameError\u001b[0m: name 'sigmoid' is not defined"
     ]
    }
   ],
   "source": [
    "sigmoid( dot([val1, val2, 2], logit11.coef_.T) )"
   ]
  },
  {
   "cell_type": "markdown",
   "metadata": {},
   "source": [
    "**Challenge 12**\n",
    "\n",
    "Now you are a classification master. The representative votes dataset only had 0s and 1s. Let's just swiftly tackle the breast cancer surgery data.\n",
    "\n",
    "Get it from here: Haberman Survival Dataset"
   ]
  },
  {
   "cell_type": "markdown",
   "metadata": {
    "collapsed": true
   },
   "source": [
    "Attribute Information:\n",
    "   1. Age of patient at time of operation (numerical)\n",
    "   2. Patient's year of operation (year - 1900, numerical)\n",
    "   3. Number of positive axillary nodes detected (numerical)\n",
    "   4. Survival status (class attribute)\n",
    "         1 = the patient survived 5 years or longer\n",
    "         2 = the patient died within 5 year"
   ]
  },
  {
   "cell_type": "code",
   "execution_count": 162,
   "metadata": {
    "collapsed": false
   },
   "outputs": [
    {
     "name": "stdout",
     "output_type": "stream",
     "text": [
      "(306, 4)\n"
     ]
    },
    {
     "data": {
      "text/html": [
       "<div>\n",
       "<table border=\"1\" class=\"dataframe\">\n",
       "  <thead>\n",
       "    <tr style=\"text-align: right;\">\n",
       "      <th></th>\n",
       "      <th>age</th>\n",
       "      <th>year_of_op</th>\n",
       "      <th>nodes</th>\n",
       "      <th>survival_status</th>\n",
       "    </tr>\n",
       "  </thead>\n",
       "  <tbody>\n",
       "    <tr>\n",
       "      <th>0</th>\n",
       "      <td>30</td>\n",
       "      <td>64</td>\n",
       "      <td>1</td>\n",
       "      <td>1</td>\n",
       "    </tr>\n",
       "    <tr>\n",
       "      <th>1</th>\n",
       "      <td>30</td>\n",
       "      <td>62</td>\n",
       "      <td>3</td>\n",
       "      <td>1</td>\n",
       "    </tr>\n",
       "    <tr>\n",
       "      <th>2</th>\n",
       "      <td>30</td>\n",
       "      <td>65</td>\n",
       "      <td>0</td>\n",
       "      <td>1</td>\n",
       "    </tr>\n",
       "    <tr>\n",
       "      <th>3</th>\n",
       "      <td>31</td>\n",
       "      <td>59</td>\n",
       "      <td>2</td>\n",
       "      <td>1</td>\n",
       "    </tr>\n",
       "    <tr>\n",
       "      <th>4</th>\n",
       "      <td>31</td>\n",
       "      <td>65</td>\n",
       "      <td>4</td>\n",
       "      <td>1</td>\n",
       "    </tr>\n",
       "  </tbody>\n",
       "</table>\n",
       "</div>"
      ],
      "text/plain": [
       "   age  year_of_op  nodes  survival_status\n",
       "0   30          64      1                1\n",
       "1   30          62      3                1\n",
       "2   30          65      0                1\n",
       "3   31          59      2                1\n",
       "4   31          65      4                1"
      ]
     },
     "execution_count": 162,
     "metadata": {},
     "output_type": "execute_result"
    }
   ],
   "source": [
    "column_names = ['age', 'year_of_op','nodes','survival_status']\n",
    "cancer_df = pd.read_csv('data/haberman.data.csv', names=column_names)\n",
    "print(cancer_df.shape)\n",
    "cancer_df.head()"
   ]
  },
  {
   "cell_type": "code",
   "execution_count": 166,
   "metadata": {
    "collapsed": false
   },
   "outputs": [
    {
     "name": "stdout",
     "output_type": "stream",
     "text": [
      "<class 'pandas.core.frame.DataFrame'>\n",
      "RangeIndex: 306 entries, 0 to 305\n",
      "Data columns (total 4 columns):\n",
      "age                306 non-null int64\n",
      "year_of_op         306 non-null int64\n",
      "nodes              306 non-null int64\n",
      "survival_status    306 non-null int64\n",
      "dtypes: int64(4)\n",
      "memory usage: 9.6 KB\n"
     ]
    }
   ],
   "source": [
    "for col in cancer_df.columns:\n",
    "    cancer_df[col] = cancer_df[col].astype(int, copy=False)\n",
    "    \n",
    "cancer_df.info()"
   ]
  },
  {
   "cell_type": "markdown",
   "metadata": {},
   "source": [
    "- What is the average and standard deviation of the age of all of the patients?"
   ]
  },
  {
   "cell_type": "code",
   "execution_count": 172,
   "metadata": {
    "collapsed": false
   },
   "outputs": [
    {
     "name": "stdout",
     "output_type": "stream",
     "text": [
      "Average Age: 52.4575163399\n",
      "Standard Deviation of Age: 10.8034523493\n"
     ]
    }
   ],
   "source": [
    "print(\"Average Age: \" + str(cancer_df['age'].mean()))\n",
    "print(\"Standard Deviation of Age: \" + str(cancer_df['age'].std()))"
   ]
  },
  {
   "cell_type": "markdown",
   "metadata": {},
   "source": [
    "- What is the average and standard deviation of the age of those patients that survived 5 or more years after surgery?"
   ]
  },
  {
   "cell_type": "code",
   "execution_count": 173,
   "metadata": {
    "collapsed": false
   },
   "outputs": [
    {
     "name": "stdout",
     "output_type": "stream",
     "text": [
      "Average Age: 52.0177777778\n",
      "Standard Deviation of Age: 11.0121541799\n"
     ]
    }
   ],
   "source": [
    "surv_5year = cancer_df[cancer_df['survival_status']==1]\n",
    "print(\"Average Age: \" + str(surv_5year['age'].mean()))\n",
    "print(\"Standard Deviation of Age: \" + str(surv_5year['age'].std()))"
   ]
  },
  {
   "cell_type": "markdown",
   "metadata": {},
   "source": [
    "- What is the average and standard deviation of the age of those patients who survived fewer than 5 years after surgery?"
   ]
  },
  {
   "cell_type": "code",
   "execution_count": 175,
   "metadata": {
    "collapsed": false
   },
   "outputs": [
    {
     "name": "stdout",
     "output_type": "stream",
     "text": [
      "Average Age: 53.6790123457\n",
      "Standard Deviation of Age: 10.1671372083\n"
     ]
    }
   ],
   "source": [
    "surv_less5year = cancer_df[cancer_df['survival_status']==2]\n",
    "print(\"Average Age: \" + str(surv_less5year['age'].mean()))\n",
    "print(\"Standard Deviation of Age: \" + str(surv_less5year['age'].std()))"
   ]
  },
  {
   "cell_type": "markdown",
   "metadata": {},
   "source": [
    "- Plot a histogram of the ages side by side with a histogram of the number of axillary nodes."
   ]
  },
  {
   "cell_type": "code",
   "execution_count": 184,
   "metadata": {
    "collapsed": false
   },
   "outputs": [
    {
     "data": {
      "image/png": "[encoded data removed]",
      "text/plain": [
       "<matplotlib.figure.Figure at 0x114534b38>"
      ]
     },
     "metadata": {},
     "output_type": "display_data"
    }
   ],
   "source": [
    "fig = plt.figure()\n",
    "ax1 = fig.add_subplot(2, 2, 1)\n",
    "ax2 = fig.add_subplot(2, 2, 2)\n",
    "ax1.hist(surv_5year['age'])\n",
    "ax1.set_title('Survived')\n",
    "ax2.hist(surv_less5year['age'])\n",
    "ax2.set_title('Did Not Survive');"
   ]
  },
  {
   "cell_type": "markdown",
   "metadata": {},
   "source": [
    "- What is the earliest year of surgery in this dataset?"
   ]
  },
  {
   "cell_type": "code",
   "execution_count": 186,
   "metadata": {
    "collapsed": false
   },
   "outputs": [
    {
     "name": "stdout",
     "output_type": "stream",
     "text": [
      "Earlier year of surgery: 30\n"
     ]
    }
   ],
   "source": [
    "print(\"Earlier year of surgery: \" + str(cancer_df['age'].min()))"
   ]
  },
  {
   "cell_type": "markdown",
   "metadata": {},
   "source": [
    "- What is the most recent year of surgery?"
   ]
  },
  {
   "cell_type": "code",
   "execution_count": 187,
   "metadata": {
    "collapsed": false
   },
   "outputs": [
    {
     "name": "stdout",
     "output_type": "stream",
     "text": [
      "Most recent year of surgery: 83\n"
     ]
    }
   ],
   "source": [
    "print(\"Most recent year of surgery: \" + str(cancer_df['age'].max()))"
   ]
  },
  {
   "cell_type": "markdown",
   "metadata": {},
   "source": [
    "- Use logistic regression to predict survival after 5 years. How well does your model do?"
   ]
  },
  {
   "cell_type": "code",
   "execution_count": 194,
   "metadata": {
    "collapsed": false
   },
   "outputs": [
    {
     "name": "stdout",
     "output_type": "stream",
     "text": [
      "Logit: 0.815217391304\n"
     ]
    }
   ],
   "source": [
    "X12 = cancer_df[['age', 'year_of_op','nodes']]\n",
    "y12 = cancer_df['survival_status']\n",
    "\n",
    "X12_train, X12_test, y12_train, y12_test = train_test_split(X12, y12, test_size=0.3, random_state=4444)\n",
    "\n",
    "logit12 = LogisticRegression()\n",
    "results12 = logit12.fit(X12_train, y12_train)\n",
    "y12_pred = logit12.predict(X12_test)\n",
    "print(\"Logit: \" + str(accuracy_score(y12_test, y12_pred)))"
   ]
  },
  {
   "cell_type": "markdown",
   "metadata": {},
   "source": [
    "- What are the coefficients of logistic regression? Which features affect the outcome how?"
   ]
  },
  {
   "cell_type": "code",
   "execution_count": 195,
   "metadata": {
    "collapsed": false
   },
   "outputs": [
    {
     "ename": "AttributeError",
     "evalue": "'LogisticRegression' object has no attribute 'summary'",
     "output_type": "error",
     "traceback": [
      "\u001b[0;31m---------------------------------------------------------------------------\u001b[0m",
      "\u001b[0;31mAttributeError\u001b[0m                            Traceback (most recent call last)",
      "\u001b[0;32m<ipython-input-195-af2fc537e64f>\u001b[0m in \u001b[0;36m<module>\u001b[0;34m()\u001b[0m\n\u001b[0;32m----> 1\u001b[0;31m \u001b[0mresults12\u001b[0m\u001b[0;34m.\u001b[0m\u001b[0msummary\u001b[0m\u001b[0;34m(\u001b[0m\u001b[0;34m)\u001b[0m\u001b[0;34m\u001b[0m\u001b[0m\n\u001b[0m",
      "\u001b[0;31mAttributeError\u001b[0m: 'LogisticRegression' object has no attribute 'summary'"
     ]
    }
   ],
   "source": [
    "results12.summary()"
   ]
  },
  {
   "cell_type": "markdown",
   "metadata": {},
   "source": [
    "- Draw the learning curve for logistic regression in this case."
   ]
  },
  {
   "cell_type": "code",
   "execution_count": null,
   "metadata": {
    "collapsed": true
   },
   "outputs": [],
   "source": []
  }
 ],
 "metadata": {
  "anaconda-cloud": {},
  "kernelspec": {
   "display_name": "Python [conda env:py35]",
   "language": "python",
   "name": "conda-env-py35-py"
  },
  "language_info": {
   "codemirror_mode": {
    "name": "ipython",
    "version": 3
   },
   "file_extension": ".py",
   "mimetype": "text/x-python",
   "name": "python",
   "nbconvert_exporter": "python",
   "pygments_lexer": "ipython3",
   "version": "3.5.2"
  }
 },
 "nbformat": 4,
 "nbformat_minor": 1
}
