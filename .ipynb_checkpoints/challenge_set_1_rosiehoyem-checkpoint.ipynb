{
 "cells": [
  {
   "cell_type": "markdown",
   "metadata": {},
   "source": [
    "# Topic:        Challenge Set 1\n",
    "# Subject:      Explore MTA turnstile data\n",
    "# Date:         01/23/2017\n",
    "# Name:         Rosie Hoyem"
   ]
  },
  {
   "cell_type": "markdown",
   "metadata": {},
   "source": [
    "### Challenge 1\n",
    "\n",
    "Download a few MTA turnstile data files\n",
    "Open up a file, use csv reader to read it, make a python dict where there is a key for each (C/A, UNIT, SCP, STATION). These are the first four columns. The value for this key should be a list of lists. Each list in the list is the rest of the columns in a row. For example, one key-value pair should look like:\n",
    "\n",
    "{ ('A002','R051','02-00-00','LEXINGTON AVE'): [ ['NQR456', 'BMT', '01/03/2015', '03:00:00', 'REGULAR', '0004945474', '0001675324'], ['NQR456', 'BMT', '01/03/2015', '07:00:00', 'REGULAR', '0004945478', '0001675333'], ['NQR456', 'BMT', '01/03/2015', '11:00:00', 'REGULAR', '0004945515', '0001675364'], ... ] }"
   ]
  },
  {
   "cell_type": "code",
   "execution_count": 1,
   "metadata": {
    "collapsed": true
   },
   "outputs": [],
   "source": [
    "import pandas as pd\n",
    "import numpy as np\n",
    "import matplotlib.pyplot as plt\n",
    "\n",
    "from IPython.display import Image\n",
    "\n",
    "# enables inline plots, without it plots don't show up in the notebook\n",
    "%matplotlib inline"
   ]
  },
  {
   "cell_type": "code",
   "execution_count": 3,
   "metadata": {
    "collapsed": false
   },
   "outputs": [],
   "source": [
    "df1 = pd.read_csv('data/turnstile_160507.txt')\n",
    "df2 = pd.read_csv('data/turnstile_160514.txt')\n",
    "df3 = pd.read_csv('data/turnstile_160521.txt')\n",
    "df4 = pd.read_csv('data/turnstile_160528.txt')\n",
    "frames = [df1, df2, df3, df4]\n",
    "df = pd.concat(frames)"
   ]
  },
  {
   "cell_type": "code",
   "execution_count": 5,
   "metadata": {
    "collapsed": false
   },
   "outputs": [
    {
     "data": {
      "text/html": [
       "<div>\n",
       "<table border=\"1\" class=\"dataframe\">\n",
       "  <thead>\n",
       "    <tr style=\"text-align: right;\">\n",
       "      <th></th>\n",
       "      <th>C/A</th>\n",
       "      <th>UNIT</th>\n",
       "      <th>SCP</th>\n",
       "      <th>STATION</th>\n",
       "      <th>LINENAME</th>\n",
       "      <th>DIVISION</th>\n",
       "      <th>DATE</th>\n",
       "      <th>TIME</th>\n",
       "      <th>DESC</th>\n",
       "      <th>ENTRIES</th>\n",
       "      <th>EXITS</th>\n",
       "    </tr>\n",
       "  </thead>\n",
       "  <tbody>\n",
       "    <tr>\n",
       "      <th>0</th>\n",
       "      <td>A002</td>\n",
       "      <td>R051</td>\n",
       "      <td>02-00-00</td>\n",
       "      <td>59 ST</td>\n",
       "      <td>NQR456</td>\n",
       "      <td>BMT</td>\n",
       "      <td>04/30/2016</td>\n",
       "      <td>00:00:00</td>\n",
       "      <td>REGULAR</td>\n",
       "      <td>5639941</td>\n",
       "      <td>1909983</td>\n",
       "    </tr>\n",
       "    <tr>\n",
       "      <th>1</th>\n",
       "      <td>A002</td>\n",
       "      <td>R051</td>\n",
       "      <td>02-00-00</td>\n",
       "      <td>59 ST</td>\n",
       "      <td>NQR456</td>\n",
       "      <td>BMT</td>\n",
       "      <td>04/30/2016</td>\n",
       "      <td>04:00:00</td>\n",
       "      <td>REGULAR</td>\n",
       "      <td>5639991</td>\n",
       "      <td>1909993</td>\n",
       "    </tr>\n",
       "    <tr>\n",
       "      <th>2</th>\n",
       "      <td>A002</td>\n",
       "      <td>R051</td>\n",
       "      <td>02-00-00</td>\n",
       "      <td>59 ST</td>\n",
       "      <td>NQR456</td>\n",
       "      <td>BMT</td>\n",
       "      <td>04/30/2016</td>\n",
       "      <td>08:00:00</td>\n",
       "      <td>REGULAR</td>\n",
       "      <td>5640014</td>\n",
       "      <td>1910024</td>\n",
       "    </tr>\n",
       "    <tr>\n",
       "      <th>3</th>\n",
       "      <td>A002</td>\n",
       "      <td>R051</td>\n",
       "      <td>02-00-00</td>\n",
       "      <td>59 ST</td>\n",
       "      <td>NQR456</td>\n",
       "      <td>BMT</td>\n",
       "      <td>04/30/2016</td>\n",
       "      <td>12:00:00</td>\n",
       "      <td>REGULAR</td>\n",
       "      <td>5640158</td>\n",
       "      <td>1910134</td>\n",
       "    </tr>\n",
       "    <tr>\n",
       "      <th>4</th>\n",
       "      <td>A002</td>\n",
       "      <td>R051</td>\n",
       "      <td>02-00-00</td>\n",
       "      <td>59 ST</td>\n",
       "      <td>NQR456</td>\n",
       "      <td>BMT</td>\n",
       "      <td>04/30/2016</td>\n",
       "      <td>16:00:00</td>\n",
       "      <td>REGULAR</td>\n",
       "      <td>5640454</td>\n",
       "      <td>1910197</td>\n",
       "    </tr>\n",
       "  </tbody>\n",
       "</table>\n",
       "</div>"
      ],
      "text/plain": [
       "    C/A  UNIT       SCP STATION LINENAME DIVISION        DATE      TIME  \\\n",
       "0  A002  R051  02-00-00   59 ST   NQR456      BMT  04/30/2016  00:00:00   \n",
       "1  A002  R051  02-00-00   59 ST   NQR456      BMT  04/30/2016  04:00:00   \n",
       "2  A002  R051  02-00-00   59 ST   NQR456      BMT  04/30/2016  08:00:00   \n",
       "3  A002  R051  02-00-00   59 ST   NQR456      BMT  04/30/2016  12:00:00   \n",
       "4  A002  R051  02-00-00   59 ST   NQR456      BMT  04/30/2016  16:00:00   \n",
       "\n",
       "      DESC  ENTRIES  \\\n",
       "0  REGULAR  5639941   \n",
       "1  REGULAR  5639991   \n",
       "2  REGULAR  5640014   \n",
       "3  REGULAR  5640158   \n",
       "4  REGULAR  5640454   \n",
       "\n",
       "   EXITS                                                                 \n",
       "0                                            1909983                     \n",
       "1                                            1909993                     \n",
       "2                                            1910024                     \n",
       "3                                            1910134                     \n",
       "4                                            1910197                     "
      ]
     },
     "execution_count": 5,
     "metadata": {},
     "output_type": "execute_result"
    }
   ],
   "source": [
    "df.head()"
   ]
  },
  {
   "cell_type": "code",
   "execution_count": 10,
   "metadata": {
    "collapsed": false
   },
   "outputs": [
    {
     "name": "stdout",
     "output_type": "stream",
     "text": [
      "{'D008': 'N', 'R220': '6', 'G015': 'FQ', 'C018': 'DNR', 'R287': '4', 'N603': 'F', 'R623': '3', 'N202': 'BD', 'N122': 'C', 'R420': '6', 'R610': '2345BDNQR', 'A054': 'R', 'R411': '6', 'N069': 'ACE', 'N600': 'F', 'N119': 'C', 'N405': 'G', 'N037': 'BC', 'R112': '23', 'K024': 'M', 'R630': '3', 'E015': 'D', 'R328': '25', 'R174': '1', 'E009': 'D', 'N133': 'A', 'H019': 'L', 'N095A': '2345ACJZ', 'R128': '123FLM', 'R325': '25', 'R260': '245', 'R601A': '2345R', 'J031': 'JZ', 'PTH08': '1', 'R247': '6', 'N323': 'EFMR7', 'R421': '6', 'N045': 'BC', 'J037': 'JZ', 'R249': '456', 'N419': 'G', 'N545': 'FG', 'R621': '23', 'PTH09': '1', 'N207': 'BD', 'N044': 'BC', 'N554': 'F', 'H027': 'LM', 'PTH13': '1', 'S101': '1', 'H015': 'L', 'R111': '23', 'R609': '2345', 'R164': '1', 'N011': 'A', 'PTH06': '1', 'A069': 'JZ456', 'PTH01': '1', 'R208': '2345ACJZ', 'N090': 'ACE', 'R183': '1', 'N555': 'F', 'J009': 'JMZ', 'R246': '6', 'N210': 'BD', 'C017': 'R', 'K026': 'M', 'A058': 'R1', 'B010': 'S2345', 'D003': 'N', 'N001': 'A', 'R201': '45', 'R602': '2345R', 'N034': 'BC', 'N016A': 'C', 'R622': '2345S', 'J025': 'J', 'R228': '6', 'R253': '6', 'N222': 'BD', 'N086': 'CE', 'R196': '1', 'N541': 'FG', 'N504': 'BDFM7', 'B004': 'BQ', 'J024': 'JZ', 'N511': 'FLM123', 'N184': 'AS', 'R507': '7', 'E016': 'D', 'R242': '6', 'N528': 'F', 'N530': 'F', 'N553': 'F', 'R627': '3', 'C020': 'R', 'A007': 'NQR', 'N501A': 'BDFM', 'A042': 'NR', 'B020': 'BQ', 'R308': '3', 'N549': 'F', 'N343': 'F', 'N124': 'ACJLZ', 'R519': '7', 'A002': 'NQR456', 'N181A': 'A', 'N311': 'MR', 'N319': 'MR', 'N012': 'AC1', 'N306': 'EM6', 'R205A': '2345ACJZ', 'N316A': 'MR', 'N508': 'FM', 'N221': 'BD', 'A050': 'R', 'H022': 'L', 'J021': 'JZ', 'R293': '4', 'R172': '1', 'R177': '1', 'R148': '1237ACENQRS', 'N513': 'FLM123', 'C022': 'NR', 'N607': 'EJZ', 'A071': 'JZ456', 'N535': 'FG', 'N010': 'A', 'N602': 'F', 'N098': '2345ACJZ', 'N091': 'ACE23', 'N062': 'ACENQRS1237', 'N127': 'C', 'E011': 'D', 'R526': '7', 'R230': '6', 'R257': '6', 'A041': 'NR', 'N500': 'BDFM', 'R155': '1', 'R200A': '45', 'R185': '1', 'R197': '1', 'R194': '1', 'N137': 'A', 'N063': 'ACENQRS1237', 'R529': '7', 'D005': 'ND', 'N420B': 'G', 'R288': '4', 'N543': 'FG', 'N604': 'E', 'R134': '1', 'R291': '4', 'H016': 'L', 'PTH20': '1', 'A021': 'ACENQRS1237', 'N135': 'A', 'N040': 'BC', 'R626': '34', 'N194': 'A', 'R625': '34', 'PTH11': '1', 'R160A': '1', 'N023': 'BC', 'J028': 'JZ', 'R302': '23', 'C027': 'R', 'N039': 'BC', 'H023': 'L', 'R132': '1', 'PTH02': '1', 'N338': 'F', 'N191': 'A', 'N181': 'A', 'JFK02': 'A', 'R127': '123FLM', 'R329': '25', 'N183': 'AS', 'R241A': '4567S', 'J017': 'JZ', 'R323': '25', 'A083': 'JZ', 'A033': 'LNQR456', 'N062A': 'ACENQRS1237', 'R501': '7BDFM', 'R262': '4BD', 'N414A': 'G', 'R176': '1', 'R401': '6', 'R231A': '6', 'B027': 'BQ', 'R238A': '4567S', 'R503': '7', 'R217A': '6DF', 'G009': 'DFNQ', 'A085': 'JZ', 'R633': '3', 'R163': '1', 'N532': 'FG', 'C009': 'BDNQR2345', 'H037': 'L', 'R509': '7NQ', 'N182': 'A', 'R138': '123ACE', 'A049': 'R', 'OB01': '6', 'N310': 'EMR', 'R180': '1', 'N075': 'CE', 'N510': 'FLM123', 'R527': '7', 'N095': 'ACJZ2345', 'N506': 'BDFMNQR', 'H035': 'L', 'N217': 'BD', 'N501': 'BDFM', 'B026': 'BQ', 'R515': 'NQ', 'N335': 'EF', 'N131': 'A', 'R169': '123', 'J005': 'JM', 'R126': '1', 'R145': '1237ACENQRS', 'R294': '4', 'R316': '25', 'R261': '245', 'PTH10': '1', 'N316': 'MR', 'N520': 'BD', 'R116': '123', 'H038': 'L', 'A043': 'JNQRZ6', 'R612': 'BDNQR2345', 'H014': 'L', 'N003': 'A', 'A030': 'NR', 'R645': '25', 'R179': '1', 'N507': 'BDFMNQR', 'R729': '5', 'N130': 'A', 'R512': 'NQ', 'PTH07': '1', 'N186': 'AS', 'N401': 'G', 'R406': '6', 'N080': 'ABCDEFM', 'R307': '23', 'A037': 'LNQR456', 'N562': 'F', 'R161A': '123', 'R165': '1', 'N046': 'BC', 'H012': 'LG', 'N314': 'MR', 'N539A': 'FG', 'R151': '1237ACENQRS', 'N558': 'F', 'E014': 'D', 'R315': '25', 'R332': '25', 'PTH12': '1', 'R252': '6', 'PTH05': '1', 'D009': 'N', 'N224': 'D', 'N533': 'FG', 'D002': 'N', 'R605': '23', 'R119': '1', 'N305': 'EM6', 'A022': 'BDFMNQR', 'A034': 'LNQR456', 'R202': '45', 'R327': '25', 'R242A': '6', 'R251': '6', 'JFK01': 'A', 'R634': '3', 'J030': 'J', 'B019': 'BQ', 'N330': 'MR', 'R115': '23ACE', 'N342': 'F', 'R525': '7EFMR', 'R216': '6', 'C026': 'R', 'R245A': '456NQR', 'N333B': 'EFMR', 'A014': 'NQR', 'N526': 'FJMZ', 'N195': 'A', 'R533': '7', 'B012': 'BQS', 'J002': 'JMZ', 'R506': '7', 'N317': 'MR', 'R262B': '4BD', 'N030': 'BC', 'R728': '5', 'R285': '4', 'R204A': '45', 'N315': 'MR', 'R203A': '45', 'R405': '6', 'R168A': '123', 'R521': '7', 'R608': '2345', 'R135': '123', 'R317': '25', 'N043': 'BC', 'A066': 'JNQRZ6', 'R250': '456', 'R643': '25', 'N029': 'BC', 'R182': '1AC', 'N305A': 'EM6', 'N303': 'EM', 'G001': 'DFNQ', 'N300': 'BDE', 'N117': 'AC', 'N051': 'ABCD1', 'H009': 'L', 'A025': 'BDFMNQR', 'N009': 'A', 'A055': 'R', 'R730': '5', 'N324': 'EFMR7', 'C011': 'R', 'R412': '6', 'R161B': '123', 'R419': '6', 'R215': '6', 'R262A': '4BD', 'R306': '23', 'R422': '6', 'N120': 'AC', 'R238': '4567S', 'PTH04': '1', 'N073': 'ACE', 'R162': '1', 'R321': '25', 'R125': '1', 'N531': 'FG', 'N415': 'G', 'N070': 'ACE', 'R423': '6', 'R513': 'NQ', 'R646': '25', 'R133': '1', 'N548': 'F', 'R647': '25', 'R511': 'NQ', 'N409': 'GL', 'R101': '1R', 'R410': '6', 'N225': 'D', 'N536': 'FG', 'N559': 'F', 'K019': 'M', 'H026': 'LM', 'R113': '2345ACJZ', 'N120A': 'AC', 'N416': 'G', 'R504': '7', 'N525': 'FJMZ', 'R532H': '7', 'N521': 'F', 'J034': 'JZ', 'R139': '123', 'A011': 'NQR', 'H005': 'L', 'R245': '456NQR', 'C012': 'DFGMNR', 'N212': 'BD', 'N339A': 'F', 'N108': 'ACG', 'C016': 'R', 'R173': '1', 'N057': 'CE', 'C004': 'R', 'H040': 'L', 'S102': '1', 'N307': 'EMG', 'N606': 'EJZ', 'R534': '7', 'R117': '1', 'N223': 'BD', 'R304': '23', 'C008': 'BDNQR', 'N519': 'BDFQ6', 'D010': 'N', 'N546': 'FG', 'A060': 'R1', 'R508': '7', 'R303': '23', 'H030': 'L', 'N068': 'ACE', 'R312': '25', 'R309': '3', 'H017': 'L', 'N077': 'CE', 'N551': 'F', 'B025': 'BQ', 'R550': '7', 'A084': 'JZ', 'C019': 'R', 'N024': 'BC', 'R248': '6', 'R129': '1', 'E005': 'D', 'N304': 'EM', 'R523': '7', 'B009': 'S', 'R226': '6', 'E004': 'D', 'R143': '1237ACENQRS', 'C023': 'R', 'N007A': 'A', 'R320': '25', 'A081': 'ACJZ2345', 'R154': '1', 'N125': 'C', 'N205': 'BD4', 'N327': 'MR', 'D015': 'N', 'N056': 'CE', 'R283': '4', 'C028': 'R', 'N019': 'ABCD', 'R727': '5', 'N333A': 'EFMR', 'J013': 'JZ', 'N561': 'F', 'B014': 'BQ', 'R256': '6', 'N503': 'BDFM7', 'R141': '123', 'G011': 'FQ', 'R330': '25', 'J003': 'JM', 'R221': '456LNQR', 'D012': 'N', 'R190': '1', 'N334B': 'EF', 'D016': 'N', 'N123B': 'C', 'R618': '23', 'R244': '456NQR', 'N116': 'AC', 'H013': 'L', 'R122': '1', 'N113': 'ACS', 'B024A': 'BQ', 'A064': 'JZ', 'B021': 'BQ', 'A061': 'FJMZ', 'N013': 'AC1', 'H008': 'L', 'R204': '45', 'R409': '6', 'H028': 'L', 'E001': 'D', 'PTH21': '1', 'N094': 'ACE23', 'R514': 'NQ', 'R289': '4', 'N537': 'DFGMNR', 'C024': 'R', 'N322': 'MR', 'R414': '6', 'N112A': 'C', 'N556': 'F', 'E012': 'D', 'R120': '1', 'A031': 'NR', 'R636': '25', 'A039': 'NR', 'N339': 'F', 'B016': 'BQ', 'C021': 'NR', 'R103': '1', 'R206': '2345ACJZ', 'H039': 'L', 'B018': 'BQ', 'N325A': 'MR', 'H033': 'L', 'C015': 'R', 'N141': 'A', 'N111': 'C', 'R418': '6', 'B034': 'Q', 'N329A': 'MR', 'R237B': '4567S', 'R600': '23', 'N601': 'F', 'B024': 'BQ', 'R403': '6', 'R102': '1', 'R123': '1', 'R606': '23', 'B029': 'BQ', 'JFK03': 'E', 'N002A': 'A', 'N017': 'C', 'A015': 'NQR', 'N412': 'G', 'R229': '6', 'N215': 'BD', 'N076': 'CE', 'R192': '1', 'C003': 'R', 'R520': '7', 'N512': 'FLM123', 'A027': 'NR', 'N006A': 'A', 'R641': '25', 'H003': 'FLM123', 'R644': '25', 'N534': 'FG', 'R188': '1', 'N110': 'C', 'R130': '1', 'R254': '6', 'N312': 'MR', 'R286': '4', 'N301': 'BDE', 'N331': 'MR', 'R114': '2345ACJZ', 'B028': 'BQ', 'N100': 'AC', 'N336': 'EF', 'R532': '7', 'J032': 'JZ', 'N128': 'AC', 'A082': 'ACJZ2345', 'R530': '7', 'R243': '6', 'N408A': 'G', 'N519A': 'BDFQ6', 'R415': '6', 'N060': 'ACENGRS1237', 'A016': 'NQR', 'N220': 'BD', 'R227': '6', 'C025': 'R', 'N089': 'ACE', 'J016': 'J', 'N605': 'EJZ', 'R518': '7', 'N544': 'FG', 'R624': '3', 'R726': '5', 'R617': '23', 'A035': 'LNQR456', 'R639': '25', 'N121B': 'C', 'N072': 'ACE', 'R510': 'NQ', 'R118': '1', 'R333': '25', 'R178': '1', 'N092': 'ACE23', 'N330C': 'MR', 'R227A': '6', 'PTH03': '1', 'R231': '6', 'PTH19': '1', 'R210A': '456JZ', 'N550': 'F', 'R417': '6', 'R314': '25', 'R516': '7', 'R322': '25', 'S101A': '1', 'R147': '1237ACENQRS', 'N417': 'G', 'N049': 'ABCD1', 'R637': '25', 'A038': 'NR', 'R407': '6', 'R416': '6', 'A010': 'NQR', 'E013': 'D', 'N020': 'ABCD', 'N078': 'ACEL', 'PTH18': '1', 'C001': 'R2345', 'A029': 'NR', 'R334': '25', 'N414': 'G', 'R524': '7', 'N523': 'F', 'R112A': '23', 'N134': 'A', 'N187': 'AS', 'R186': '1', 'N213': 'BD', 'R110': '23', 'R301': '23', 'N139': 'A', 'R319': '25', 'J022': 'J', 'R336': '2', 'R258': '456', 'R121': '1', 'N102': 'ACF', 'R244A': '456NQR', 'N067': 'ACE', 'A013': 'NQR', 'J035': 'J', 'N022': 'BC', 'N542': 'FG', 'A006': 'NQR', 'R629': '3', 'N114': 'ACS', 'R124': '1', 'N557': 'F', 'B015': 'BQ', 'C010': 'R', 'R226A': '6', 'N333': 'EFMR', 'B017': 'BQ', 'N340': 'F', 'R131': '1', 'N083': 'ABCDEFM', 'N192': 'A', 'R142': '123ACE', 'N101': 'AC', 'N103': 'ACF', 'R158': '1ABCD', 'R160': '1', 'K025': 'M', 'J023': 'JZ', 'R232': '6', 'R604': '2345R', 'R619': '23', 'C014': 'R', 'R240': '4567S', 'R305': '23', 'N206': 'BD', 'N026': 'ACBD', 'N547': 'F', 'R326': '25', 'N529': 'F', 'A077': 'ACJZ2345', 'N035': 'BC', 'B013': 'BQS', 'N422': 'G', 'N196': 'A', 'R259': '45', 'N129': 'A', 'R517': '7', 'R175': '1', 'R402': '6', 'R236': '4567S', 'N509': 'FM', 'K022': 'M', 'PTH17': '1', 'R237': '4567S', 'K017': 'M', 'R635': '25', 'A046': 'JNQRZ6', 'B022': 'BQ', 'N193': 'A', 'N025': 'ACBD', 'PTH16': '1', 'N418': 'G', 'E003': 'D', 'N218': 'BD', 'R203': '45', 'B023': 'BQ', 'R166': '1', 'R528': '7', 'N208': 'BD', 'R232A': '6', 'R310': '25', 'N318': 'MR', 'N087': 'CE', 'J007': 'JM', 'TRAM2': 'R', 'R318': '25', 'R219': '6', 'H007': 'L', 'TRAM1': 'R', 'N400A': 'EMG', 'N505': 'BDFMNQR', 'A047': 'R', 'N209': 'BD', 'R413': '6', 'N185': 'AS', 'N502': 'BDFM7', 'N329': 'MR', 'R331': '25', 'H001': 'ACEL', 'N071': 'ACE', 'J001': 'JMZ', 'R290': '4', 'N118': 'C', 'H006': 'L', 'N063A': 'ACENQRS1237', 'N332': 'MR', 'J020': 'J', 'R311': '25', 'R171': '1', 'N138': 'A', 'N309A': 'EMR', 'B032': 'Q', 'R408': '6', 'J012': 'J', 'R159': '1', 'H041': 'L', 'N337': 'EF', 'N340A': 'F', 'R404': '6', 'B031': 'BQ', 'R137': '123', 'N338B': 'F', 'R210': '456JZ', 'N126': 'C', 'N203': 'BD4', 'R284': '4', 'R170': '1', 'R335': '25'}\n"
     ]
    }
   ],
   "source": [
    "#df.set_index(KEY).to_dict()[VALUE]\n",
    "#Series(df.Letter.values,index=df.Position).to_dict()\n",
    "t_dict = dict(zip(df['C/A'], df['LINENAME']))\n",
    "print(t_dict)"
   ]
  },
  {
   "cell_type": "code",
   "execution_count": null,
   "metadata": {
    "collapsed": true
   },
   "outputs": [],
   "source": []
  }
 ],
 "metadata": {
  "kernelspec": {
   "display_name": "Python [conda env:py35]",
   "language": "python",
   "name": "conda-env-py35-py"
  },
  "language_info": {
   "codemirror_mode": {
    "name": "ipython",
    "version": 3
   },
   "file_extension": ".py",
   "mimetype": "text/x-python",
   "name": "python",
   "nbconvert_exporter": "python",
   "pygments_lexer": "ipython3",
   "version": "3.5.2"
  }
 },
 "nbformat": 4,
 "nbformat_minor": 1
}
