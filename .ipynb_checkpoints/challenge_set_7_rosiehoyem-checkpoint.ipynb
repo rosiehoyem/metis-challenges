{
 "cells": [
  {
   "cell_type": "code",
   "execution_count": 84,
   "metadata": {
    "collapsed": true
   },
   "outputs": [],
   "source": [
    "%matplotlib inline\n",
    "\n",
    "from __future__ import print_function\n",
    "from statsmodels.compat import lzip\n",
    "import statsmodels\n",
    "import numpy as np\n",
    "import pandas as pd\n",
    "import seaborn as sns\n",
    "import matplotlib.pyplot as plt\n",
    "from scipy import stats\n",
    "\n",
    "from statsmodels.stats.outliers_influence import OLSInfluence"
   ]
  },
  {
   "cell_type": "markdown",
   "metadata": {},
   "source": [
    "## Topic: Classification\n",
    "\n",
    "**Settings: Where applicable, use test_size=.30, random_state=4444. This will permit comparison of results across users.\n",
    "\n",
    "Data:\n",
    "\n",
    "Challenges 1-10: congressional votes Congressional Voting Records Dataset\n",
    "\n",
    "Challenge 11: movie data\n",
    "\n",
    "Challenge 12: breast cancer surgery Haberman Survival Dataset\n",
    "\n",
    "Data – Congressional Votes\n",
    "\n",
    "Download the congressional votes data from here:Congressional Voting Records Dataset\n",
    "\n",
    "These are votes of U.S. House of Representatives Congressmen on 16 key issues in 1984.\n",
    "\n",
    "Read the description of the fields and download the data: house-votes-84.data\n",
    "\n",
    "We will try to see if we can predict the house members' party based on their votes.\n",
    "\n",
    "We will also use some of the general machine learning tools we learned (a bit more efficiently this time)."
   ]
  },
  {
   "cell_type": "markdown",
   "metadata": {},
   "source": [
    "**Challenge 1**\n",
    "\n",
    "Load the data into a pandas dataframe. Replace 'y's with 1s, 'n's with 0s.\n",
    "\n",
    "Now, almost every representative has a ?. This represents the absence of a vote (they were absent or some other similar reason). If we dropped all the rows that had a ?, we would throw out most of our data. Instead, we will replace ? with the best guess in the Bayesian sense: in the absence of any other information, we will say that the probability of the representative saying YES is the ratio of others that said YES over the whole votes.\n",
    "\n",
    "So, convert each ? to this probability (when yes=1 and no=0, this is the mean of the column)"
   ]
  },
  {
   "cell_type": "code",
   "execution_count": 68,
   "metadata": {
    "collapsed": false
   },
   "outputs": [],
   "source": [
    "column_names = ['party', 'handicapped_infants','water_project_cost_sharing',\\\n",
    "  'adoption_of_the_budget_resolution','physician_fee_freeze','el_salvador_aid', 'religious_groups_in_schools',\\\n",
    "  'anti_satellite_test_ban','aid_to_nicaraguan_contras','mx_missile', 'immigration', 'synfuels_corporation_cutback',\\\n",
    "  'education_spending','superfund_right_to_sue','crime','duty_free_exports','export_administration_act_south_africa']"
   ]
  },
  {
   "cell_type": "code",
   "execution_count": 70,
   "metadata": {
    "collapsed": false
   },
   "outputs": [
    {
     "name": "stdout",
     "output_type": "stream",
     "text": [
      "(435, 17)\n"
     ]
    },
    {
     "data": {
      "text/html": [
       "<div>\n",
       "<table border=\"1\" class=\"dataframe\">\n",
       "  <thead>\n",
       "    <tr style=\"text-align: right;\">\n",
       "      <th></th>\n",
       "      <th>party</th>\n",
       "      <th>handicapped_infants</th>\n",
       "      <th>water_project_cost_sharing</th>\n",
       "      <th>adoption_of_the_budget_resolution</th>\n",
       "      <th>physician_fee_freeze</th>\n",
       "      <th>el_salvador_aid</th>\n",
       "      <th>religious_groups_in_schools</th>\n",
       "      <th>anti_satellite_test_ban</th>\n",
       "      <th>aid_to_nicaraguan_contras</th>\n",
       "      <th>mx_missile</th>\n",
       "      <th>immigration</th>\n",
       "      <th>synfuels_corporation_cutback</th>\n",
       "      <th>education_spending</th>\n",
       "      <th>superfund_right_to_sue</th>\n",
       "      <th>crime</th>\n",
       "      <th>duty_free_exports</th>\n",
       "      <th>export_administration_act_south_africa</th>\n",
       "    </tr>\n",
       "  </thead>\n",
       "  <tbody>\n",
       "    <tr>\n",
       "      <th>0</th>\n",
       "      <td>republican</td>\n",
       "      <td>n</td>\n",
       "      <td>y</td>\n",
       "      <td>n</td>\n",
       "      <td>y</td>\n",
       "      <td>y</td>\n",
       "      <td>y</td>\n",
       "      <td>n</td>\n",
       "      <td>n</td>\n",
       "      <td>n</td>\n",
       "      <td>y</td>\n",
       "      <td>?</td>\n",
       "      <td>y</td>\n",
       "      <td>y</td>\n",
       "      <td>y</td>\n",
       "      <td>n</td>\n",
       "      <td>y</td>\n",
       "    </tr>\n",
       "    <tr>\n",
       "      <th>1</th>\n",
       "      <td>republican</td>\n",
       "      <td>n</td>\n",
       "      <td>y</td>\n",
       "      <td>n</td>\n",
       "      <td>y</td>\n",
       "      <td>y</td>\n",
       "      <td>y</td>\n",
       "      <td>n</td>\n",
       "      <td>n</td>\n",
       "      <td>n</td>\n",
       "      <td>n</td>\n",
       "      <td>n</td>\n",
       "      <td>y</td>\n",
       "      <td>y</td>\n",
       "      <td>y</td>\n",
       "      <td>n</td>\n",
       "      <td>?</td>\n",
       "    </tr>\n",
       "    <tr>\n",
       "      <th>2</th>\n",
       "      <td>democrat</td>\n",
       "      <td>?</td>\n",
       "      <td>y</td>\n",
       "      <td>y</td>\n",
       "      <td>?</td>\n",
       "      <td>y</td>\n",
       "      <td>y</td>\n",
       "      <td>n</td>\n",
       "      <td>n</td>\n",
       "      <td>n</td>\n",
       "      <td>n</td>\n",
       "      <td>y</td>\n",
       "      <td>n</td>\n",
       "      <td>y</td>\n",
       "      <td>y</td>\n",
       "      <td>n</td>\n",
       "      <td>n</td>\n",
       "    </tr>\n",
       "    <tr>\n",
       "      <th>3</th>\n",
       "      <td>democrat</td>\n",
       "      <td>n</td>\n",
       "      <td>y</td>\n",
       "      <td>y</td>\n",
       "      <td>n</td>\n",
       "      <td>?</td>\n",
       "      <td>y</td>\n",
       "      <td>n</td>\n",
       "      <td>n</td>\n",
       "      <td>n</td>\n",
       "      <td>n</td>\n",
       "      <td>y</td>\n",
       "      <td>n</td>\n",
       "      <td>y</td>\n",
       "      <td>n</td>\n",
       "      <td>n</td>\n",
       "      <td>y</td>\n",
       "    </tr>\n",
       "    <tr>\n",
       "      <th>4</th>\n",
       "      <td>democrat</td>\n",
       "      <td>y</td>\n",
       "      <td>y</td>\n",
       "      <td>y</td>\n",
       "      <td>n</td>\n",
       "      <td>y</td>\n",
       "      <td>y</td>\n",
       "      <td>n</td>\n",
       "      <td>n</td>\n",
       "      <td>n</td>\n",
       "      <td>n</td>\n",
       "      <td>y</td>\n",
       "      <td>?</td>\n",
       "      <td>y</td>\n",
       "      <td>y</td>\n",
       "      <td>y</td>\n",
       "      <td>y</td>\n",
       "    </tr>\n",
       "  </tbody>\n",
       "</table>\n",
       "</div>"
      ],
      "text/plain": [
       "        party handicapped_infants water_project_cost_sharing  \\\n",
       "0  republican                   n                          y   \n",
       "1  republican                   n                          y   \n",
       "2    democrat                   ?                          y   \n",
       "3    democrat                   n                          y   \n",
       "4    democrat                   y                          y   \n",
       "\n",
       "  adoption_of_the_budget_resolution physician_fee_freeze el_salvador_aid  \\\n",
       "0                                 n                    y               y   \n",
       "1                                 n                    y               y   \n",
       "2                                 y                    ?               y   \n",
       "3                                 y                    n               ?   \n",
       "4                                 y                    n               y   \n",
       "\n",
       "  religious_groups_in_schools anti_satellite_test_ban  \\\n",
       "0                           y                       n   \n",
       "1                           y                       n   \n",
       "2                           y                       n   \n",
       "3                           y                       n   \n",
       "4                           y                       n   \n",
       "\n",
       "  aid_to_nicaraguan_contras mx_missile immigration  \\\n",
       "0                         n          n           y   \n",
       "1                         n          n           n   \n",
       "2                         n          n           n   \n",
       "3                         n          n           n   \n",
       "4                         n          n           n   \n",
       "\n",
       "  synfuels_corporation_cutback education_spending superfund_right_to_sue  \\\n",
       "0                            ?                  y                      y   \n",
       "1                            n                  y                      y   \n",
       "2                            y                  n                      y   \n",
       "3                            y                  n                      y   \n",
       "4                            y                  ?                      y   \n",
       "\n",
       "  crime duty_free_exports export_administration_act_south_africa  \n",
       "0     y                 n                                      y  \n",
       "1     y                 n                                      ?  \n",
       "2     y                 n                                      n  \n",
       "3     n                 n                                      y  \n",
       "4     y                 y                                      y  "
      ]
     },
     "execution_count": 70,
     "metadata": {},
     "output_type": "execute_result"
    }
   ],
   "source": [
    "raw_df = pd.read_csv('data/house-votes-84.csv', names=column_names)\n",
    "print(raw_df.shape)\n",
    "raw_df.head()"
   ]
  },
  {
   "cell_type": "code",
   "execution_count": 71,
   "metadata": {
    "collapsed": false
   },
   "outputs": [],
   "source": [
    "def make_binary(df, cols):\n",
    "    convert = lambda x : 1 if x == 'y' else 0\n",
    "    for col in cols:\n",
    "        df[col] = df[col].apply(convert) \n",
    "    return df\n",
    "\n",
    "def convert_quest(df, cols):\n",
    "    for col in cols:\n",
    "        yeses = len(df[df[col] == 'y'])\n",
    "        nos = len(df[df[col] == 'n'])\n",
    "        value = 'y' if yeses > nos else 'n'\n",
    "        df[col] = df[col].replace('?', value)\n",
    "    return df\n",
    "\n",
    "def cast_as_int(df, cols):\n",
    "    for col in cols:\n",
    "        df[col] = df[col].astype(int, copy=False)\n",
    "    return df"
   ]
  },
  {
   "cell_type": "code",
   "execution_count": 72,
   "metadata": {
    "collapsed": false
   },
   "outputs": [
    {
     "data": {
      "text/html": [
       "<div>\n",
       "<table border=\"1\" class=\"dataframe\">\n",
       "  <thead>\n",
       "    <tr style=\"text-align: right;\">\n",
       "      <th></th>\n",
       "      <th>party</th>\n",
       "      <th>handicapped_infants</th>\n",
       "      <th>water_project_cost_sharing</th>\n",
       "      <th>adoption_of_the_budget_resolution</th>\n",
       "      <th>physician_fee_freeze</th>\n",
       "      <th>el_salvador_aid</th>\n",
       "      <th>religious_groups_in_schools</th>\n",
       "      <th>anti_satellite_test_ban</th>\n",
       "      <th>aid_to_nicaraguan_contras</th>\n",
       "      <th>mx_missile</th>\n",
       "      <th>immigration</th>\n",
       "      <th>synfuels_corporation_cutback</th>\n",
       "      <th>education_spending</th>\n",
       "      <th>superfund_right_to_sue</th>\n",
       "      <th>crime</th>\n",
       "      <th>duty_free_exports</th>\n",
       "      <th>export_administration_act_south_africa</th>\n",
       "    </tr>\n",
       "  </thead>\n",
       "  <tbody>\n",
       "    <tr>\n",
       "      <th>0</th>\n",
       "      <td>republican</td>\n",
       "      <td>0</td>\n",
       "      <td>1</td>\n",
       "      <td>0</td>\n",
       "      <td>1</td>\n",
       "      <td>1</td>\n",
       "      <td>1</td>\n",
       "      <td>0</td>\n",
       "      <td>0</td>\n",
       "      <td>0</td>\n",
       "      <td>1</td>\n",
       "      <td>0</td>\n",
       "      <td>1</td>\n",
       "      <td>1</td>\n",
       "      <td>1</td>\n",
       "      <td>0</td>\n",
       "      <td>1</td>\n",
       "    </tr>\n",
       "    <tr>\n",
       "      <th>1</th>\n",
       "      <td>republican</td>\n",
       "      <td>0</td>\n",
       "      <td>1</td>\n",
       "      <td>0</td>\n",
       "      <td>1</td>\n",
       "      <td>1</td>\n",
       "      <td>1</td>\n",
       "      <td>0</td>\n",
       "      <td>0</td>\n",
       "      <td>0</td>\n",
       "      <td>0</td>\n",
       "      <td>0</td>\n",
       "      <td>1</td>\n",
       "      <td>1</td>\n",
       "      <td>1</td>\n",
       "      <td>0</td>\n",
       "      <td>1</td>\n",
       "    </tr>\n",
       "    <tr>\n",
       "      <th>2</th>\n",
       "      <td>democrat</td>\n",
       "      <td>0</td>\n",
       "      <td>1</td>\n",
       "      <td>1</td>\n",
       "      <td>0</td>\n",
       "      <td>1</td>\n",
       "      <td>1</td>\n",
       "      <td>0</td>\n",
       "      <td>0</td>\n",
       "      <td>0</td>\n",
       "      <td>0</td>\n",
       "      <td>1</td>\n",
       "      <td>0</td>\n",
       "      <td>1</td>\n",
       "      <td>1</td>\n",
       "      <td>0</td>\n",
       "      <td>0</td>\n",
       "    </tr>\n",
       "    <tr>\n",
       "      <th>3</th>\n",
       "      <td>democrat</td>\n",
       "      <td>0</td>\n",
       "      <td>1</td>\n",
       "      <td>1</td>\n",
       "      <td>0</td>\n",
       "      <td>1</td>\n",
       "      <td>1</td>\n",
       "      <td>0</td>\n",
       "      <td>0</td>\n",
       "      <td>0</td>\n",
       "      <td>0</td>\n",
       "      <td>1</td>\n",
       "      <td>0</td>\n",
       "      <td>1</td>\n",
       "      <td>0</td>\n",
       "      <td>0</td>\n",
       "      <td>1</td>\n",
       "    </tr>\n",
       "    <tr>\n",
       "      <th>4</th>\n",
       "      <td>democrat</td>\n",
       "      <td>1</td>\n",
       "      <td>1</td>\n",
       "      <td>1</td>\n",
       "      <td>0</td>\n",
       "      <td>1</td>\n",
       "      <td>1</td>\n",
       "      <td>0</td>\n",
       "      <td>0</td>\n",
       "      <td>0</td>\n",
       "      <td>0</td>\n",
       "      <td>1</td>\n",
       "      <td>0</td>\n",
       "      <td>1</td>\n",
       "      <td>1</td>\n",
       "      <td>1</td>\n",
       "      <td>1</td>\n",
       "    </tr>\n",
       "  </tbody>\n",
       "</table>\n",
       "</div>"
      ],
      "text/plain": [
       "        party  handicapped_infants  water_project_cost_sharing  \\\n",
       "0  republican                    0                           1   \n",
       "1  republican                    0                           1   \n",
       "2    democrat                    0                           1   \n",
       "3    democrat                    0                           1   \n",
       "4    democrat                    1                           1   \n",
       "\n",
       "   adoption_of_the_budget_resolution  physician_fee_freeze  el_salvador_aid  \\\n",
       "0                                  0                     1                1   \n",
       "1                                  0                     1                1   \n",
       "2                                  1                     0                1   \n",
       "3                                  1                     0                1   \n",
       "4                                  1                     0                1   \n",
       "\n",
       "   religious_groups_in_schools  anti_satellite_test_ban  \\\n",
       "0                            1                        0   \n",
       "1                            1                        0   \n",
       "2                            1                        0   \n",
       "3                            1                        0   \n",
       "4                            1                        0   \n",
       "\n",
       "   aid_to_nicaraguan_contras  mx_missile  immigration  \\\n",
       "0                          0           0            1   \n",
       "1                          0           0            0   \n",
       "2                          0           0            0   \n",
       "3                          0           0            0   \n",
       "4                          0           0            0   \n",
       "\n",
       "   synfuels_corporation_cutback  education_spending  superfund_right_to_sue  \\\n",
       "0                             0                   1                       1   \n",
       "1                             0                   1                       1   \n",
       "2                             1                   0                       1   \n",
       "3                             1                   0                       1   \n",
       "4                             1                   0                       1   \n",
       "\n",
       "   crime  duty_free_exports  export_administration_act_south_africa  \n",
       "0      1                  0                                       1  \n",
       "1      1                  0                                       1  \n",
       "2      1                  0                                       0  \n",
       "3      0                  0                                       1  \n",
       "4      1                  1                                       1  "
      ]
     },
     "execution_count": 72,
     "metadata": {},
     "output_type": "execute_result"
    }
   ],
   "source": [
    "cols = raw_df.ix[:,1:].columns\n",
    "\n",
    "df = convert_quest(raw_df, cols)\n",
    "df = make_binary(df, cols)\n",
    "df = cast_as_int(df, cols)\n",
    "\n",
    "df.head()"
   ]
  },
  {
   "cell_type": "markdown",
   "metadata": {},
   "source": [
    "**Challenge 2**\n",
    "\n",
    "Split the data into a test and training set. Use this function:\n",
    "\n",
    "`from sklearn.cross_validation import train_test_split`"
   ]
  },
  {
   "cell_type": "code",
   "execution_count": 82,
   "metadata": {
    "collapsed": false
   },
   "outputs": [],
   "source": [
    "from sklearn.cross_validation import train_test_split\n",
    "\n",
    "X = df.ix[:,1:]\n",
    "y = df['party']\n",
    "\n",
    "X_train, X_test, y_train, y_test = train_test_split(X, y, test_size=0.3, random_state=4444)"
   ]
  },
  {
   "cell_type": "markdown",
   "metadata": {},
   "source": [
    "**Challenge 3**\n",
    "\n",
    "Using scikit.learn's KNN algorithm, train a model that predicts the party (republican/democrat):\n",
    "\n",
    "`from sklearn.neighbors import KNeighborsClassifier`\n",
    "\n",
    "Try it with a lot of different k values (number of neighbors), from 1 to 20, and on the test set calculate the accuracy (number of correct predictions / number of all predictions) for each k\n",
    "\n",
    "You can use this to calculate accuracy:\n",
    "\n",
    "`from sklearn.metrics import accuracy_score`\n",
    "\n",
    "Which k value gives the highest accuracy?"
   ]
  },
  {
   "cell_type": "code",
   "execution_count": 88,
   "metadata": {
    "collapsed": false
   },
   "outputs": [
    {
     "name": "stdout",
     "output_type": "stream",
     "text": [
      "KNN 1: 0.916030534351\n",
      "KNN 2: 0.916030534351\n",
      "KNN 3: 0.916030534351\n",
      "KNN 4: 0.916030534351\n",
      "KNN 5: 0.916030534351\n",
      "KNN 6: 0.916030534351\n",
      "KNN 7: 0.916030534351\n",
      "KNN 8: 0.931297709924\n",
      "KNN 9: 0.908396946565\n",
      "KNN 10: 0.916030534351\n",
      "KNN 11: 0.923664122137\n",
      "KNN 12: 0.923664122137\n",
      "KNN 13: 0.923664122137\n",
      "KNN 14: 0.931297709924\n",
      "KNN 15: 0.923664122137\n",
      "KNN 16: 0.923664122137\n",
      "KNN 17: 0.908396946565\n",
      "KNN 18: 0.908396946565\n",
      "KNN 19: 0.908396946565\n",
      "KNN 20: 0.900763358779\n"
     ]
    }
   ],
   "source": [
    "from sklearn.neighbors import KNeighborsClassifier\n",
    "from sklearn.metrics import accuracy_score\n",
    "\n",
    "for k in range (1,21):\n",
    "    knn = KNeighborsClassifier(n_neighbors=k)\n",
    "    knn.fit(X_train, y_train)\n",
    "    y_pred = knn.predict(X_test)\n",
    "    print(\"KNN \" + str(k) + \": \" + str(accuracy_score(y_test, y_pred)))\n"
   ]
  },
  {
   "cell_type": "markdown",
   "metadata": {},
   "source": [
    "**Challenge 4**\n",
    "\n",
    "Make a similar model but with LogisticRegression instead, calculate test accuracy."
   ]
  },
  {
   "cell_type": "code",
   "execution_count": 89,
   "metadata": {
    "collapsed": false
   },
   "outputs": [
    {
     "ename": "ValueError",
     "evalue": "could not convert string to float: 'democrat'",
     "output_type": "error",
     "traceback": [
      "\u001b[0;31m---------------------------------------------------------------------------\u001b[0m",
      "\u001b[0;31mValueError\u001b[0m                                Traceback (most recent call last)",
      "\u001b[0;32m<ipython-input-89-7405637ea698>\u001b[0m in \u001b[0;36m<module>\u001b[0;34m()\u001b[0m\n\u001b[1;32m      2\u001b[0m \u001b[0;34m\u001b[0m\u001b[0m\n\u001b[1;32m      3\u001b[0m \u001b[0mlr\u001b[0m \u001b[0;34m=\u001b[0m \u001b[0mLinearRegression\u001b[0m\u001b[0;34m(\u001b[0m\u001b[0;34m)\u001b[0m\u001b[0;34m\u001b[0m\u001b[0m\n\u001b[0;32m----> 4\u001b[0;31m \u001b[0mlr\u001b[0m\u001b[0;34m.\u001b[0m\u001b[0mfit\u001b[0m\u001b[0;34m(\u001b[0m\u001b[0mX_train\u001b[0m\u001b[0;34m,\u001b[0m \u001b[0my_train\u001b[0m\u001b[0;34m)\u001b[0m\u001b[0;34m\u001b[0m\u001b[0m\n\u001b[0m\u001b[1;32m      5\u001b[0m \u001b[0my_pred\u001b[0m \u001b[0;34m=\u001b[0m \u001b[0mlr\u001b[0m\u001b[0;34m.\u001b[0m\u001b[0mpredict\u001b[0m\u001b[0;34m(\u001b[0m\u001b[0mX_test\u001b[0m\u001b[0;34m)\u001b[0m\u001b[0;34m\u001b[0m\u001b[0m\n\u001b[1;32m      6\u001b[0m \u001b[0my_pred\u001b[0m\u001b[0;34m\u001b[0m\u001b[0m\n",
      "\u001b[0;32m/Users/rosiehoyem/anaconda2/envs/py35/lib/python3.5/site-packages/sklearn/linear_model/base.py\u001b[0m in \u001b[0;36mfit\u001b[0;34m(self, X, y, sample_weight)\u001b[0m\n\u001b[1;32m    510\u001b[0m         \u001b[0mn_jobs_\u001b[0m \u001b[0;34m=\u001b[0m \u001b[0mself\u001b[0m\u001b[0;34m.\u001b[0m\u001b[0mn_jobs\u001b[0m\u001b[0;34m\u001b[0m\u001b[0m\n\u001b[1;32m    511\u001b[0m         X, y = check_X_y(X, y, accept_sparse=['csr', 'csc', 'coo'],\n\u001b[0;32m--> 512\u001b[0;31m                          y_numeric=True, multi_output=True)\n\u001b[0m\u001b[1;32m    513\u001b[0m \u001b[0;34m\u001b[0m\u001b[0m\n\u001b[1;32m    514\u001b[0m         \u001b[0;32mif\u001b[0m \u001b[0msample_weight\u001b[0m \u001b[0;32mis\u001b[0m \u001b[0;32mnot\u001b[0m \u001b[0;32mNone\u001b[0m \u001b[0;32mand\u001b[0m \u001b[0mnp\u001b[0m\u001b[0;34m.\u001b[0m\u001b[0matleast_1d\u001b[0m\u001b[0;34m(\u001b[0m\u001b[0msample_weight\u001b[0m\u001b[0;34m)\u001b[0m\u001b[0;34m.\u001b[0m\u001b[0mndim\u001b[0m \u001b[0;34m>\u001b[0m \u001b[0;36m1\u001b[0m\u001b[0;34m:\u001b[0m\u001b[0;34m\u001b[0m\u001b[0m\n",
      "\u001b[0;32m/Users/rosiehoyem/anaconda2/envs/py35/lib/python3.5/site-packages/sklearn/utils/validation.py\u001b[0m in \u001b[0;36mcheck_X_y\u001b[0;34m(X, y, accept_sparse, dtype, order, copy, force_all_finite, ensure_2d, allow_nd, multi_output, ensure_min_samples, ensure_min_features, y_numeric, warn_on_dtype, estimator)\u001b[0m\n\u001b[1;32m    527\u001b[0m         \u001b[0m_assert_all_finite\u001b[0m\u001b[0;34m(\u001b[0m\u001b[0my\u001b[0m\u001b[0;34m)\u001b[0m\u001b[0;34m\u001b[0m\u001b[0m\n\u001b[1;32m    528\u001b[0m     \u001b[0;32mif\u001b[0m \u001b[0my_numeric\u001b[0m \u001b[0;32mand\u001b[0m \u001b[0my\u001b[0m\u001b[0;34m.\u001b[0m\u001b[0mdtype\u001b[0m\u001b[0;34m.\u001b[0m\u001b[0mkind\u001b[0m \u001b[0;34m==\u001b[0m \u001b[0;34m'O'\u001b[0m\u001b[0;34m:\u001b[0m\u001b[0;34m\u001b[0m\u001b[0m\n\u001b[0;32m--> 529\u001b[0;31m         \u001b[0my\u001b[0m \u001b[0;34m=\u001b[0m \u001b[0my\u001b[0m\u001b[0;34m.\u001b[0m\u001b[0mastype\u001b[0m\u001b[0;34m(\u001b[0m\u001b[0mnp\u001b[0m\u001b[0;34m.\u001b[0m\u001b[0mfloat64\u001b[0m\u001b[0;34m)\u001b[0m\u001b[0;34m\u001b[0m\u001b[0m\n\u001b[0m\u001b[1;32m    530\u001b[0m \u001b[0;34m\u001b[0m\u001b[0m\n\u001b[1;32m    531\u001b[0m     \u001b[0mcheck_consistent_length\u001b[0m\u001b[0;34m(\u001b[0m\u001b[0mX\u001b[0m\u001b[0;34m,\u001b[0m \u001b[0my\u001b[0m\u001b[0;34m)\u001b[0m\u001b[0;34m\u001b[0m\u001b[0m\n",
      "\u001b[0;31mValueError\u001b[0m: could not convert string to float: 'democrat'"
     ]
    }
   ],
   "source": [
    "from sklearn.linear_model import LinearRegression\n",
    "\n",
    "lr = LinearRegression()\n",
    "lr.fit(X_train, y_train)\n",
    "y_pred = lr.predict(X_test)\n",
    "y_pred"
   ]
  },
  {
   "cell_type": "markdown",
   "metadata": {},
   "source": [
    "**Challenge 5**\n",
    "\n",
    "Make a bar graph of democrats and republicans. How many of each are there?"
   ]
  },
  {
   "cell_type": "code",
   "execution_count": 86,
   "metadata": {
    "collapsed": false
   },
   "outputs": [
    {
     "data": {
      "image/png": "[encoded data removed]",
      "text/plain": [
       "<matplotlib.figure.Figure at 0x10f0af4e0>"
      ]
     },
     "metadata": {},
     "output_type": "display_data"
    }
   ],
   "source": [
    "sns.set_style(\"whitegrid\")\n",
    "ax = sns.countplot(x=df['party'], data=df)"
   ]
  },
  {
   "cell_type": "markdown",
   "metadata": {},
   "source": [
    "Make a very simple predictor that predicts 'democrat' for every incoming example.\n",
    "\n",
    "Just make a function that takes in an X --an array or matrix with input examples--, and returns an array of the same length as X, where each value is 'democrat'. For example, if X is three rows, your function should return ['democrat','democrat','democrat']. Make a y_predicted vector using this and measure its accuracy.\n",
    "\n",
    "Do the same with predicting 'republican' all the time and measure its accuracy."
   ]
  },
  {
   "cell_type": "code",
   "execution_count": null,
   "metadata": {
    "collapsed": true
   },
   "outputs": [],
   "source": [
    "x_predict = []"
   ]
  },
  {
   "cell_type": "code",
   "execution_count": null,
   "metadata": {
    "collapsed": true
   },
   "outputs": [],
   "source": []
  },
  {
   "cell_type": "markdown",
   "metadata": {},
   "source": [
    "**Challenge 6**\n",
    "\n",
    "Plot the accuracies as a function of k. Since k only matters for KNN, your logistic regression accuracy, 'democrat' predictor accuracy and 'republican' predictor accuracy will stay the same over all k, so each of these three will be a horizontal line. But the KNN accuracy will change with k."
   ]
  },
  {
   "cell_type": "code",
   "execution_count": null,
   "metadata": {
    "collapsed": true
   },
   "outputs": [],
   "source": []
  },
  {
   "cell_type": "markdown",
   "metadata": {},
   "source": [
    "**Challenge 7**\n",
    "\n",
    "Plot a learning curve for the logistic regression model. But instead of going through the painstaking steps of doing it yourself, use this function:\n",
    "\n",
    "from sklearn.learning_curve import learning_curve\n",
    "This will give you the m, training errors and testing errors. All you need to do is plot them. You don't even need to give it separate training/test sets. It will do crossvalidation all by itself. Easy, isn't it? : ) Remember, since it does cross-validation, it doesn't have a single training error or test error per m value. Instead, it has one for each fold (separate partition) of the cross validation. A good idea is to take the mean of these errors from different folds. This gives you a meaningful single number per m. What I mean is that doing something like:\n",
    "\n",
    "train_cv_err = np.mean(train_err, axis=1)\n",
    "test_cv_err = np.mean(ts_err, axis=1)\n",
    "Before plotting m vs train_cv_err and m vs test_cv_err, where train_err and test_err are the vectors returned by the learning curve function. The np.mean(...., axis=1) means take the mean along axis 1 (axis 1 is the columns axis-- for each row, you have a bunch of columns, each corresponding to a cross validation fold, you are averaging these columns for each row).\n",
    "\n",
    "Draw the learning curve for KNN with the best k value as well."
   ]
  },
  {
   "cell_type": "code",
   "execution_count": null,
   "metadata": {
    "collapsed": true
   },
   "outputs": [],
   "source": []
  },
  {
   "cell_type": "markdown",
   "metadata": {},
   "source": [
    "**Challenge 8**\n",
    "\n",
    "This is a preview of many other classification algorithms that we will go over. Scikit.learn has the same interface for all of these, so you can use them exactly the same way as you did LogisticRegression and KNeighborsClassifier. Use each of these to classify your data and print the test accuracy of each:\n",
    "\n",
    "Gaussian Naive Bayes\n",
    "\n",
    "```\n",
    "from sklearn.naive_bayes import GaussianNB\n",
    "```\n",
    "\n",
    "SVM (Support Vector Machine) Classifier\n",
    "\n",
    "`from sklearn.svm import SVC`\n",
    "\n",
    "Decision Tree\n",
    "\n",
    "`from sklearn.tree import DecisionTreeClassifier`\n",
    "\n",
    "Random Forest\n",
    "\n",
    "`from sklearn.ensemble import RandomForestClassifier`"
   ]
  },
  {
   "cell_type": "code",
   "execution_count": null,
   "metadata": {
    "collapsed": true
   },
   "outputs": [],
   "source": []
  },
  {
   "cell_type": "markdown",
   "metadata": {},
   "source": [
    "**Challenge 9**\n",
    "\n",
    "There is actually a way to do cross validation quickly to get your accuracy results for an algorithm, without separating training and test yourself:\n",
    "\n",
    "```\n",
    "from sklearn.cross_validation import cross_val_score\n",
    "```\n",
    "\n",
    "Just like the learning_curve function, this takes a classifier object, X and Y. Returns accuracy (or whatever score you prefer by using the scoring keyword argument). Of course, it will return a score for each cross validation fold, so to get the generalized accuracy, you need to take the mean of what it returns.\n",
    "\n",
    "Use this function to calculate the cross validation score of each of the classifiers you tried before."
   ]
  },
  {
   "cell_type": "code",
   "execution_count": null,
   "metadata": {
    "collapsed": true
   },
   "outputs": [],
   "source": []
  },
  {
   "cell_type": "markdown",
   "metadata": {},
   "source": [
    "**Challenge 10**\n",
    "\n",
    "Instead of 'democrat' or 'republican', can you predict the vote of a representative based on their other votes?\n",
    "\n",
    "Reload the data from scratch. Convert y-->1, n-->0.\n",
    "\n",
    "Choose one vote. Build a classifier (logistic regression or KNN), that uses the other votes (do not use the party as a feature) to predict if the vote will be 1 or 0.\n",
    "\n",
    "Convert each ? to the mode of the column (if a senator has not voted, make their vote 1 if most others voted 1, make it 0 if most others voted 0).\n",
    "\n",
    "Calculate the cross validation accuracy of your classifier for predicting how each representative will vote on the issue."
   ]
  },
  {
   "cell_type": "code",
   "execution_count": null,
   "metadata": {
    "collapsed": true
   },
   "outputs": [],
   "source": []
  },
  {
   "cell_type": "markdown",
   "metadata": {},
   "source": [
    "**Challenge 11**\n",
    "\n",
    "Back to movie data! Choose one categoric feature to predict. I chose MPAA Rating, but genre, month, etc. are all decent choices. If you don't have any non-numeric features, you can make two bins out of a numeric one (like \"Runtime>100 mins\" and \"Runtime<=100 mins\")\n",
    "\n",
    "Make a bar graph of how many of each movie there is in the data. For example, with Ratings, show how many G, PG, PG-13, R movies there are, etc. (basically a histogram of your labels).\n",
    "\n",
    "Predict your outcome variable (labels) using KNN and logistic regression. Calculate their accuracies.\n",
    "\n",
    "Make a baseline stupid predictor that always predicts the label that is present the most in the data. Calculate its accuracy on a test set.\n",
    "\n",
    "How much better do KNN and logistic regression do versus the baseline?\n",
    "\n",
    "What are the coefficients of logistic regression? Which features affect the outcome how?"
   ]
  },
  {
   "cell_type": "code",
   "execution_count": null,
   "metadata": {
    "collapsed": true
   },
   "outputs": [],
   "source": []
  },
  {
   "cell_type": "markdown",
   "metadata": {},
   "source": [
    "**Challenge 12**\n",
    "\n",
    "Now you are a classification master. The representative votes dataset only had 0s and 1s. Let's just swiftly tackle the breast cancer surgery data.\n",
    "\n",
    "Get it from here: Haberman Survival Dataset\n",
    "\n",
    "- What is the average and standard deviation of the age of all of the patients?\n",
    "- What is the average and standard deviation of the age of those patients that survived 5 or more years after surgery?\n",
    "- What is the average and standard deviation of the age of those patients who survived fewer than 5 years after surgery?\n",
    "- Plot a histogram of the ages side by side with a histogram of the number of axillary nodes.\n",
    "- What is the earliest year of surgery in this dataset?\n",
    "- What is the most recent year of surgery?\n",
    "- Use logistic regression to predict survival after 5 years. How well does your model do?\n",
    "- What are the coefficients of logistic regression? Which features affect the outcome how?\n",
    "- Draw the learning curve for logistic regression in this case."
   ]
  },
  {
   "cell_type": "code",
   "execution_count": null,
   "metadata": {
    "collapsed": true
   },
   "outputs": [],
   "source": []
  }
 ],
 "metadata": {
  "anaconda-cloud": {},
  "kernelspec": {
   "display_name": "Python [conda env:py35]",
   "language": "python",
   "name": "conda-env-py35-py"
  },
  "language_info": {
   "codemirror_mode": {
    "name": "ipython",
    "version": 3
   },
   "file_extension": ".py",
   "mimetype": "text/x-python",
   "name": "python",
   "nbconvert_exporter": "python",
   "pygments_lexer": "ipython3",
   "version": "3.5.2"
  }
 },
 "nbformat": 4,
 "nbformat_minor": 1
}
