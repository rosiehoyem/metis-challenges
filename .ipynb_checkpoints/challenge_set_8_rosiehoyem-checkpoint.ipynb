{
 "cells": [
  {
   "cell_type": "markdown",
   "metadata": {},
   "source": [
    "# Topic:        Challenge Set 8\n",
    "# Subject:      Pandas Challenges\n",
    "# Date:         02/13/2017\n",
    "# Name:         Rosie Hoyem"
   ]
  },
  {
   "cell_type": "code",
   "execution_count": 2,
   "metadata": {
    "collapsed": true
   },
   "outputs": [],
   "source": [
    "%matplotlib inline\n",
    "\n",
    "from __future__ import print_function\n",
    "from statsmodels.compat import lzip\n",
    "import statsmodels\n",
    "import numpy as np\n",
    "import pandas as pd\n",
    "import seaborn as sns\n",
    "import matplotlib.pyplot as plt\n",
    "from scipy import stats\n",
    "\n",
    "from statsmodels.stats.outliers_influence import OLSInfluence\n",
    "from sklearn.model_selection import cross_val_score"
   ]
  },
  {
   "cell_type": "markdown",
   "metadata": {},
   "source": [
    "### Classification Error Metric Challenges\n",
    "\n",
    "**Settings: Where applicable, use test_size=0.30, random_state=4444. This will permit comparison of results across users.\n",
    "\n",
    "These reference the Classification Challenges.\n",
    "\n",
    "**Challenge 1**\n",
    "\n",
    "For the house representatives data set, calculate the accuracy, precision, recall and f1 scores of each classifier you built (on the test set)."
   ]
  },
  {
   "cell_type": "code",
   "execution_count": 5,
   "metadata": {
    "collapsed": false
   },
   "outputs": [
    {
     "data": {
      "text/html": [
       "<div>\n",
       "<table border=\"1\" class=\"dataframe\">\n",
       "  <thead>\n",
       "    <tr style=\"text-align: right;\">\n",
       "      <th></th>\n",
       "      <th>party</th>\n",
       "      <th>handicapped_infants</th>\n",
       "      <th>water_project_cost_sharing</th>\n",
       "      <th>adoption_of_the_budget_resolution</th>\n",
       "      <th>physician_fee_freeze</th>\n",
       "      <th>el_salvador_aid</th>\n",
       "      <th>religious_groups_in_schools</th>\n",
       "      <th>anti_satellite_test_ban</th>\n",
       "      <th>aid_to_nicaraguan_contras</th>\n",
       "      <th>mx_missile</th>\n",
       "      <th>immigration</th>\n",
       "      <th>synfuels_corporation_cutback</th>\n",
       "      <th>education_spending</th>\n",
       "      <th>superfund_right_to_sue</th>\n",
       "      <th>crime</th>\n",
       "      <th>duty_free_exports</th>\n",
       "      <th>export_administration_act_south_africa</th>\n",
       "    </tr>\n",
       "  </thead>\n",
       "  <tbody>\n",
       "    <tr>\n",
       "      <th>0</th>\n",
       "      <td>0</td>\n",
       "      <td>0</td>\n",
       "      <td>1</td>\n",
       "      <td>0</td>\n",
       "      <td>1</td>\n",
       "      <td>1</td>\n",
       "      <td>1</td>\n",
       "      <td>0</td>\n",
       "      <td>0</td>\n",
       "      <td>0</td>\n",
       "      <td>1</td>\n",
       "      <td>0</td>\n",
       "      <td>1</td>\n",
       "      <td>1</td>\n",
       "      <td>1</td>\n",
       "      <td>0</td>\n",
       "      <td>1</td>\n",
       "    </tr>\n",
       "    <tr>\n",
       "      <th>1</th>\n",
       "      <td>0</td>\n",
       "      <td>0</td>\n",
       "      <td>1</td>\n",
       "      <td>0</td>\n",
       "      <td>1</td>\n",
       "      <td>1</td>\n",
       "      <td>1</td>\n",
       "      <td>0</td>\n",
       "      <td>0</td>\n",
       "      <td>0</td>\n",
       "      <td>0</td>\n",
       "      <td>0</td>\n",
       "      <td>1</td>\n",
       "      <td>1</td>\n",
       "      <td>1</td>\n",
       "      <td>0</td>\n",
       "      <td>1</td>\n",
       "    </tr>\n",
       "    <tr>\n",
       "      <th>2</th>\n",
       "      <td>1</td>\n",
       "      <td>0</td>\n",
       "      <td>1</td>\n",
       "      <td>1</td>\n",
       "      <td>0</td>\n",
       "      <td>1</td>\n",
       "      <td>1</td>\n",
       "      <td>0</td>\n",
       "      <td>0</td>\n",
       "      <td>0</td>\n",
       "      <td>0</td>\n",
       "      <td>1</td>\n",
       "      <td>0</td>\n",
       "      <td>1</td>\n",
       "      <td>1</td>\n",
       "      <td>0</td>\n",
       "      <td>0</td>\n",
       "    </tr>\n",
       "    <tr>\n",
       "      <th>3</th>\n",
       "      <td>1</td>\n",
       "      <td>0</td>\n",
       "      <td>1</td>\n",
       "      <td>1</td>\n",
       "      <td>0</td>\n",
       "      <td>1</td>\n",
       "      <td>1</td>\n",
       "      <td>0</td>\n",
       "      <td>0</td>\n",
       "      <td>0</td>\n",
       "      <td>0</td>\n",
       "      <td>1</td>\n",
       "      <td>0</td>\n",
       "      <td>1</td>\n",
       "      <td>0</td>\n",
       "      <td>0</td>\n",
       "      <td>1</td>\n",
       "    </tr>\n",
       "    <tr>\n",
       "      <th>4</th>\n",
       "      <td>1</td>\n",
       "      <td>1</td>\n",
       "      <td>1</td>\n",
       "      <td>1</td>\n",
       "      <td>0</td>\n",
       "      <td>1</td>\n",
       "      <td>1</td>\n",
       "      <td>0</td>\n",
       "      <td>0</td>\n",
       "      <td>0</td>\n",
       "      <td>0</td>\n",
       "      <td>1</td>\n",
       "      <td>0</td>\n",
       "      <td>1</td>\n",
       "      <td>1</td>\n",
       "      <td>1</td>\n",
       "      <td>1</td>\n",
       "    </tr>\n",
       "  </tbody>\n",
       "</table>\n",
       "</div>"
      ],
      "text/plain": [
       "   party  handicapped_infants  water_project_cost_sharing  \\\n",
       "0      0                    0                           1   \n",
       "1      0                    0                           1   \n",
       "2      1                    0                           1   \n",
       "3      1                    0                           1   \n",
       "4      1                    1                           1   \n",
       "\n",
       "   adoption_of_the_budget_resolution  physician_fee_freeze  el_salvador_aid  \\\n",
       "0                                  0                     1                1   \n",
       "1                                  0                     1                1   \n",
       "2                                  1                     0                1   \n",
       "3                                  1                     0                1   \n",
       "4                                  1                     0                1   \n",
       "\n",
       "   religious_groups_in_schools  anti_satellite_test_ban  \\\n",
       "0                            1                        0   \n",
       "1                            1                        0   \n",
       "2                            1                        0   \n",
       "3                            1                        0   \n",
       "4                            1                        0   \n",
       "\n",
       "   aid_to_nicaraguan_contras  mx_missile  immigration  \\\n",
       "0                          0           0            1   \n",
       "1                          0           0            0   \n",
       "2                          0           0            0   \n",
       "3                          0           0            0   \n",
       "4                          0           0            0   \n",
       "\n",
       "   synfuels_corporation_cutback  education_spending  superfund_right_to_sue  \\\n",
       "0                             0                   1                       1   \n",
       "1                             0                   1                       1   \n",
       "2                             1                   0                       1   \n",
       "3                             1                   0                       1   \n",
       "4                             1                   0                       1   \n",
       "\n",
       "   crime  duty_free_exports  export_administration_act_south_africa  \n",
       "0      1                  0                                       1  \n",
       "1      1                  0                                       1  \n",
       "2      1                  0                                       0  \n",
       "3      0                  0                                       1  \n",
       "4      1                  1                                       1  "
      ]
     },
     "execution_count": 5,
     "metadata": {},
     "output_type": "execute_result"
    }
   ],
   "source": [
    "# pickle file created in challegen set 7\n",
    "import pickle\n",
    "\n",
    "with open(\"data/political_vote_data.pkl\", 'rb') as picklefile: \n",
    "    df = pickle.load(picklefile)\n",
    "df.head()"
   ]
  },
  {
   "cell_type": "code",
   "execution_count": 18,
   "metadata": {
    "collapsed": false
   },
   "outputs": [
    {
     "name": "stdout",
     "output_type": "stream",
     "text": [
      "KNN\n",
      "Accuracy: 0.923664122137\n",
      "Precision: 0.935064935065\n",
      "Recall: 0.935064935065\n",
      "F1: 0.935064935065\n",
      "\n",
      "\n",
      "Logit\n",
      "Accuracy: 0.93893129771\n",
      "Precision: 0.925925925926\n",
      "Recall: 0.974025974026\n",
      "F1: 0.949367088608\n",
      "\n",
      "\n",
      "GaussianNB\n",
      "Accuracy: 0.93893129771\n",
      "Precision: 0.925925925926\n",
      "Recall: 0.974025974026\n",
      "F1: 0.949367088608\n",
      "\n",
      "\n",
      "SVC\n",
      "Accuracy: 0.954198473282\n",
      "Precision: 0.949367088608\n",
      "Recall: 0.974025974026\n",
      "F1: 0.961538461538\n",
      "\n",
      "\n",
      "DecisionTreeClassifier\n",
      "Accuracy: 0.916030534351\n",
      "Precision: 0.923076923077\n",
      "Recall: 0.935064935065\n",
      "F1: 0.929032258065\n",
      "\n",
      "\n",
      "RandomForestClassifier\n",
      "Accuracy: 0.969465648855\n",
      "Precision: 0.962025316456\n",
      "Recall: 0.987012987013\n",
      "F1: 0.974358974359\n",
      "\n",
      "\n"
     ]
    }
   ],
   "source": [
    "from sklearn.cross_validation import train_test_split\n",
    "from sklearn.neighbors import KNeighborsClassifier\n",
    "from sklearn.metrics import accuracy_score\n",
    "from sklearn.linear_model import LogisticRegression\n",
    "from sklearn.naive_bayes import GaussianNB\n",
    "from sklearn.svm import SVC\n",
    "from sklearn.tree import DecisionTreeClassifier\n",
    "from sklearn.ensemble import RandomForestClassifier\n",
    "from sklearn import metrics\n",
    "\n",
    "X = df.ix[:,1:]\n",
    "y = df['party']\n",
    "\n",
    "X_train, X_test, y_train, y_test = train_test_split(X, y, test_size=0.3, random_state=4444)\n",
    "\n",
    "knn = KNeighborsClassifier(n_neighbors=8)\n",
    "knn.fit(X_train, y_train)\n",
    "y_pred = knn.predict(X_test)\n",
    "print(\"KNN\")\n",
    "print(\"Accuracy: \" + str(accuracy_score(y_test, y_pred)))\n",
    "print(\"Precision: \" + str(metrics.precision_score(y_test, y_pred)))\n",
    "print(\"Recall: \" + str(metrics.recall_score(y_test, y_pred)))\n",
    "print(\"F1: \" + str(metrics.f1_score(y_test, y_pred)))\n",
    "print(\"\\n\")\n",
    "\n",
    "logit = LogisticRegression()\n",
    "logit.fit(X_train, y_train)\n",
    "y_pred = logit.predict(X_test)\n",
    "print(\"Logit\")\n",
    "print(\"Accuracy: \" + str(accuracy_score(y_test, y_pred)))\n",
    "print(\"Precision: \" + str(metrics.precision_score(y_test, y_pred)))\n",
    "print(\"Recall: \" + str(metrics.recall_score(y_test, y_pred)))\n",
    "print(\"F1: \" + str(metrics.f1_score(y_test, y_pred)))\n",
    "print(\"\\n\")\n",
    "\n",
    "gaus = GaussianNB()\n",
    "gaus.fit(X_train, y_train)\n",
    "y_pred = gaus.predict(X_test)\n",
    "print(\"GaussianNB\")\n",
    "print(\"Accuracy: \" + str(accuracy_score(y_test, y_pred)))\n",
    "print(\"Precision: \" + str(metrics.precision_score(y_test, y_pred)))\n",
    "print(\"Recall: \" + str(metrics.recall_score(y_test, y_pred)))\n",
    "print(\"F1: \" + str(metrics.f1_score(y_test, y_pred)))\n",
    "print(\"\\n\")\n",
    "\n",
    "svc = SVC()\n",
    "svc.fit(X_train, y_train)\n",
    "y_pred = svc.predict(X_test)\n",
    "print(\"SVC\")\n",
    "print(\"Accuracy: \" + str(accuracy_score(y_test, y_pred)))\n",
    "print(\"Precision: \" + str(metrics.precision_score(y_test, y_pred)))\n",
    "print(\"Recall: \" + str(metrics.recall_score(y_test, y_pred)))\n",
    "print(\"F1: \" + str(metrics.f1_score(y_test, y_pred)))\n",
    "print(\"\\n\")\n",
    "\n",
    "dectree = DecisionTreeClassifier()\n",
    "dectree.fit(X_train, y_train)\n",
    "y_pred = dectree.predict(X_test)\n",
    "print(\"DecisionTreeClassifier\")\n",
    "print(\"Accuracy: \" + str(accuracy_score(y_test, y_pred)))\n",
    "print(\"Precision: \" + str(metrics.precision_score(y_test, y_pred)))\n",
    "print(\"Recall: \" + str(metrics.recall_score(y_test, y_pred)))\n",
    "print(\"F1: \" + str(metrics.f1_score(y_test, y_pred)))\n",
    "print(\"\\n\")\n",
    "\n",
    "randforest = RandomForestClassifier()\n",
    "randforest.fit(X_train, y_train)\n",
    "y_pred = randforest.predict(X_test)\n",
    "print(\"RandomForestClassifier\")\n",
    "print(\"Accuracy: \" + str(accuracy_score(y_test, y_pred)))\n",
    "print(\"Precision: \" + str(metrics.precision_score(y_test, y_pred)))\n",
    "print(\"Recall: \" + str(metrics.recall_score(y_test, y_pred)))\n",
    "print(\"F1: \" + str(metrics.f1_score(y_test, y_pred)))\n",
    "print(\"\\n\")"
   ]
  },
  {
   "cell_type": "markdown",
   "metadata": {},
   "source": [
    "**Challenge 2**\n",
    "\n",
    "For each, draw the ROC curve and calculate the AUC."
   ]
  },
  {
   "cell_type": "code",
   "execution_count": 19,
   "metadata": {
    "collapsed": false
   },
   "outputs": [
    {
     "ename": "ValueError",
     "evalue": "Found input variables with inconsistent numbers of samples: [435, 10]",
     "output_type": "error",
     "traceback": [
      "\u001b[0;31m---------------------------------------------------------------------------\u001b[0m",
      "\u001b[0;31mValueError\u001b[0m                                Traceback (most recent call last)",
      "\u001b[0;32m<ipython-input-19-b66794c5297d>\u001b[0m in \u001b[0;36m<module>\u001b[0;34m()\u001b[0m\n\u001b[1;32m      1\u001b[0m \u001b[0mscores\u001b[0m \u001b[0;34m=\u001b[0m \u001b[0mcross_val_score\u001b[0m\u001b[0;34m(\u001b[0m\u001b[0mknn\u001b[0m\u001b[0;34m,\u001b[0m \u001b[0mX\u001b[0m\u001b[0;34m,\u001b[0m \u001b[0my\u001b[0m\u001b[0;34m,\u001b[0m \u001b[0mcv\u001b[0m\u001b[0;34m=\u001b[0m\u001b[0;36m10\u001b[0m\u001b[0;34m,\u001b[0m \u001b[0mscoring\u001b[0m\u001b[0;34m=\u001b[0m\u001b[0;34m'accuracy'\u001b[0m\u001b[0;34m)\u001b[0m\u001b[0;34m\u001b[0m\u001b[0m\n\u001b[0;32m----> 2\u001b[0;31m \u001b[0mfpr\u001b[0m\u001b[0;34m,\u001b[0m \u001b[0mtpr\u001b[0m\u001b[0;34m,\u001b[0m \u001b[0mthresholds\u001b[0m \u001b[0;34m=\u001b[0m \u001b[0mmetrics\u001b[0m\u001b[0;34m.\u001b[0m\u001b[0mroc_curve\u001b[0m\u001b[0;34m(\u001b[0m\u001b[0my\u001b[0m\u001b[0;34m,\u001b[0m \u001b[0mscores\u001b[0m\u001b[0;34m,\u001b[0m \u001b[0mpos_label\u001b[0m\u001b[0;34m=\u001b[0m\u001b[0;36m2\u001b[0m\u001b[0;34m)\u001b[0m\u001b[0;34m\u001b[0m\u001b[0m\n\u001b[0m",
      "\u001b[0;32m/Users/rosiehoyem/anaconda2/envs/py35/lib/python3.5/site-packages/sklearn/metrics/ranking.py\u001b[0m in \u001b[0;36mroc_curve\u001b[0;34m(y_true, y_score, pos_label, sample_weight, drop_intermediate)\u001b[0m\n\u001b[1;32m    503\u001b[0m     \"\"\"\n\u001b[1;32m    504\u001b[0m     fps, tps, thresholds = _binary_clf_curve(\n\u001b[0;32m--> 505\u001b[0;31m         y_true, y_score, pos_label=pos_label, sample_weight=sample_weight)\n\u001b[0m\u001b[1;32m    506\u001b[0m \u001b[0;34m\u001b[0m\u001b[0m\n\u001b[1;32m    507\u001b[0m     \u001b[0;31m# Attempt to drop thresholds corresponding to points in between and\u001b[0m\u001b[0;34m\u001b[0m\u001b[0;34m\u001b[0m\u001b[0m\n",
      "\u001b[0;32m/Users/rosiehoyem/anaconda2/envs/py35/lib/python3.5/site-packages/sklearn/metrics/ranking.py\u001b[0m in \u001b[0;36m_binary_clf_curve\u001b[0;34m(y_true, y_score, pos_label, sample_weight)\u001b[0m\n\u001b[1;32m    295\u001b[0m         \u001b[0mDecreasing\u001b[0m \u001b[0mscore\u001b[0m \u001b[0mvalues\u001b[0m\u001b[0;34m.\u001b[0m\u001b[0;34m\u001b[0m\u001b[0m\n\u001b[1;32m    296\u001b[0m     \"\"\"\n\u001b[0;32m--> 297\u001b[0;31m     \u001b[0mcheck_consistent_length\u001b[0m\u001b[0;34m(\u001b[0m\u001b[0my_true\u001b[0m\u001b[0;34m,\u001b[0m \u001b[0my_score\u001b[0m\u001b[0;34m)\u001b[0m\u001b[0;34m\u001b[0m\u001b[0m\n\u001b[0m\u001b[1;32m    298\u001b[0m     \u001b[0my_true\u001b[0m \u001b[0;34m=\u001b[0m \u001b[0mcolumn_or_1d\u001b[0m\u001b[0;34m(\u001b[0m\u001b[0my_true\u001b[0m\u001b[0;34m)\u001b[0m\u001b[0;34m\u001b[0m\u001b[0m\n\u001b[1;32m    299\u001b[0m     \u001b[0my_score\u001b[0m \u001b[0;34m=\u001b[0m \u001b[0mcolumn_or_1d\u001b[0m\u001b[0;34m(\u001b[0m\u001b[0my_score\u001b[0m\u001b[0;34m)\u001b[0m\u001b[0;34m\u001b[0m\u001b[0m\n",
      "\u001b[0;32m/Users/rosiehoyem/anaconda2/envs/py35/lib/python3.5/site-packages/sklearn/utils/validation.py\u001b[0m in \u001b[0;36mcheck_consistent_length\u001b[0;34m(*arrays)\u001b[0m\n\u001b[1;32m    179\u001b[0m     \u001b[0;32mif\u001b[0m \u001b[0mlen\u001b[0m\u001b[0;34m(\u001b[0m\u001b[0muniques\u001b[0m\u001b[0;34m)\u001b[0m \u001b[0;34m>\u001b[0m \u001b[0;36m1\u001b[0m\u001b[0;34m:\u001b[0m\u001b[0;34m\u001b[0m\u001b[0m\n\u001b[1;32m    180\u001b[0m         raise ValueError(\"Found input variables with inconsistent numbers of\"\n\u001b[0;32m--> 181\u001b[0;31m                          \" samples: %r\" % [int(l) for l in lengths])\n\u001b[0m\u001b[1;32m    182\u001b[0m \u001b[0;34m\u001b[0m\u001b[0m\n\u001b[1;32m    183\u001b[0m \u001b[0;34m\u001b[0m\u001b[0m\n",
      "\u001b[0;31mValueError\u001b[0m: Found input variables with inconsistent numbers of samples: [435, 10]"
     ]
    }
   ],
   "source": [
    "scores = cross_val_score(knn, X, y, cv=10, scoring='accuracy')\n",
    "fpr, tpr, thresholds = metrics.roc_curve(y, scores, pos_label=2)"
   ]
  },
  {
   "cell_type": "markdown",
   "metadata": {},
   "source": [
    "**Challenge 3**\n",
    "\n",
    "Calculate the same metrics you did in challenge 1, but this time in a cross validation scheme with the cross_val_score function (like in Challenge 9)."
   ]
  },
  {
   "cell_type": "code",
   "execution_count": 34,
   "metadata": {
    "collapsed": false
   },
   "outputs": [
    {
     "name": "stdout",
     "output_type": "stream",
     "text": [
      "KNN\n",
      "Accuracy: [ 0.97727273  0.90909091  0.95454545  0.84090909  0.97727273  0.90909091\n",
      "  0.97727273  0.97674419  0.78571429  0.95238095]\n",
      "Precision: [ 1.          0.96        0.96296296  0.95454545  0.96428571  0.89655172\n",
      "  1.          1.          0.9047619   0.96153846]\n",
      "Recall: [ 0.96296296  0.88888889  0.96296296  0.77777778  1.          0.96296296\n",
      "  0.96296296  0.96153846  0.73076923  0.96153846]\n",
      "F1: [ 0.98113208  0.92307692  0.96296296  0.85714286  0.98181818  0.92857143\n",
      "  0.98113208  0.98039216  0.80851064  0.96153846]\n",
      "\n",
      "\n",
      "LogisticRegression\n",
      "Accuracy: [ 0.97727273  0.93181818  0.97727273  0.93181818  1.          0.93181818\n",
      "  1.          0.97674419  0.85714286  0.97619048]\n",
      "Precision: [ 1.          0.96153846  0.96428571  0.96153846  1.          0.9         1.\n",
      "  1.          0.91666667  1.        ]\n",
      "Recall: [ 0.96296296  0.92592593  1.          0.92592593  1.          1.          1.\n",
      "  0.96153846  0.84615385  0.96153846]\n",
      "F1: [ 0.98113208  0.94339623  0.98181818  0.94339623  1.          0.94736842\n",
      "  1.          0.98039216  0.88        0.98039216]\n",
      "\n",
      "\n",
      "GausianNB\n",
      "Accuracy: [ 0.95454545  0.93181818  0.97727273  0.81818182  0.97727273  0.90909091\n",
      "  0.97727273  0.97674419  0.76190476  0.95238095]\n",
      "Precision: [ 1.          0.96153846  0.96428571  0.91304348  0.96428571  0.89655172\n",
      "  1.          1.          0.86363636  0.96153846]\n",
      "Recall: [ 0.92592593  0.92592593  1.          0.77777778  1.          0.96296296\n",
      "  0.96296296  0.96153846  0.73076923  0.96153846]\n",
      "F1: [ 0.96153846  0.94339623  0.98181818  0.84        0.98181818  0.92857143\n",
      "  0.98113208  0.98039216  0.79166667  0.96153846]\n",
      "\n",
      "\n",
      "SVC\n",
      "Accuracy: [ 0.97727273  0.95454545  0.97727273  0.95454545  1.          0.90909091\n",
      "  1.          0.97674419  0.83333333  0.97619048]\n",
      "Precision: [ 1.          1.          0.96428571  1.          1.          0.89655172\n",
      "  1.          1.          0.95238095  1.        ]\n",
      "Recall: [ 0.96296296  0.92592593  1.          0.92592593  1.          0.96296296\n",
      "  1.          0.96153846  0.76923077  0.96153846]\n",
      "F1: [ 0.98113208  0.96153846  0.98181818  0.96153846  1.          0.92857143\n",
      "  1.          0.98039216  0.85106383  0.98039216]\n",
      "\n",
      "\n",
      "DecisionTree\n",
      "Accuracy: [ 0.97727273  0.97727273  0.97727273  0.90909091  0.97727273  0.93181818\n",
      "  0.97727273  0.90697674  0.88095238  0.97619048]\n",
      "Precision: [ 1.          0.96428571  1.          1.          1.          0.92857143\n",
      "  0.96428571  0.88461538  0.92        1.        ]\n",
      "Recall: [ 0.96296296  1.          0.96296296  0.88888889  0.96296296  0.96296296\n",
      "  1.          0.92307692  0.88461538  0.96153846]\n",
      "F1: [ 0.98113208  0.98181818  0.98113208  0.94117647  0.98113208  0.94545455\n",
      "  0.98181818  0.90566038  0.90196078  0.98039216]\n",
      "\n",
      "\n",
      "RandomForrest\n",
      "Accuracy: [ 0.97727273  0.95454545  0.97727273  0.95454545  0.95454545  0.90909091\n",
      "  1.          0.97674419  0.83333333  0.97619048]\n",
      "Precision: [ 1.          0.96153846  0.96296296  1.          1.          0.92857143\n",
      "  1.          1.          0.95652174  1.        ]\n",
      "Recall: [ 0.96296296  0.92592593  0.96296296  0.92592593  0.96296296  0.96296296\n",
      "  1.          1.          0.76923077  0.96153846]\n",
      "F1: [ 0.98113208  0.94339623  0.98113208  0.96153846  0.98113208  0.92857143\n",
      "  1.          0.98113208  0.88461538  0.98039216]\n",
      "\n",
      "\n"
     ]
    }
   ],
   "source": [
    "print(\"KNN\")\n",
    "print(\"Accuracy: \" + str(cross_val_score(knn, X, y, cv=10, scoring='accuracy')))\n",
    "print(\"Precision: \" + str(cross_val_score(knn, X, y, cv=10, scoring='precision')))\n",
    "print(\"Recall: \" + str(cross_val_score(knn, X, y, cv=10, scoring='recall')))\n",
    "print(\"F1: \" + str(cross_val_score(knn, X, y, cv=10, scoring='f1')))\n",
    "print(\"\\n\")\n",
    "\n",
    "print(\"LogisticRegression\")\n",
    "print(\"Accuracy: \" + str(cross_val_score(logit, X, y, cv=10, scoring='accuracy')))\n",
    "print(\"Precision: \" + str(cross_val_score(logit, X, y, cv=10, scoring='precision')))\n",
    "print(\"Recall: \" + str(cross_val_score(logit, X, y, cv=10, scoring='recall')))\n",
    "print(\"F1: \" + str(cross_val_score(logit, X, y, cv=10, scoring='f1')))\n",
    "print(\"\\n\")\n",
    "\n",
    "print(\"GausianNB\")\n",
    "print(\"Accuracy: \" + str(cross_val_score(gaus, X, y, cv=10, scoring='accuracy')))\n",
    "print(\"Precision: \" + str(cross_val_score(gaus, X, y, cv=10, scoring='precision')))\n",
    "print(\"Recall: \" + str(cross_val_score(gaus, X, y, cv=10, scoring='recall')))\n",
    "print(\"F1: \" + str(cross_val_score(gaus, X, y, cv=10, scoring='f1')))\n",
    "print(\"\\n\")\n",
    "\n",
    "print(\"SVC\")\n",
    "print(\"Accuracy: \" + str(cross_val_score(svc, X, y, cv=10, scoring='accuracy')))\n",
    "print(\"Precision: \" + str(cross_val_score(svc, X, y, cv=10, scoring='precision')))\n",
    "print(\"Recall: \" + str(cross_val_score(svc, X, y, cv=10, scoring='recall')))\n",
    "print(\"F1: \" + str(cross_val_score(svc, X, y, cv=10, scoring='f1')))\n",
    "print(\"\\n\")\n",
    "\n",
    "print(\"DecisionTree\")\n",
    "print(\"Accuracy: \" + str(cross_val_score(dectree, X, y, cv=10, scoring='accuracy')))\n",
    "print(\"Precision: \" + str(cross_val_score(dectree, X, y, cv=10, scoring='precision')))\n",
    "print(\"Recall: \" + str(cross_val_score(dectree, X, y, cv=10, scoring='recall')))\n",
    "print(\"F1: \" + str(cross_val_score(dectree, X, y, cv=10, scoring='f1')))\n",
    "print(\"\\n\")\n",
    "\n",
    "print(\"RandomForrest\")\n",
    "print(\"Accuracy: \" + str(cross_val_score(randforest, X, y, cv=10, scoring='accuracy')))\n",
    "print(\"Precision: \" + str(cross_val_score(randforest, X, y, cv=10, scoring='precision')))\n",
    "print(\"Recall: \" + str(cross_val_score(randforest, X, y, cv=10, scoring='recall')))\n",
    "print(\"F1: \" + str(cross_val_score(randforest, X, y, cv=10, scoring='f1')))\n",
    "print(\"\\n\")"
   ]
  },
  {
   "cell_type": "markdown",
   "metadata": {},
   "source": [
    "**Challenge 4**\n",
    "\n",
    "For your movie classifiers, calculate the precision and recall for each class."
   ]
  },
  {
   "cell_type": "code",
   "execution_count": 35,
   "metadata": {
    "collapsed": true
   },
   "outputs": [],
   "source": [
    "movie_df = pd.read_csv('data/2013_movies.csv')\n",
    "movie_df = movie_df.dropna()\n",
    "\n",
    "from sklearn import preprocessing\n",
    "\n",
    "X11 = movie_df[['Budget', 'DomesticTotalGross', 'Runtime']]\n",
    "y11 = movie_df['Rating']\n",
    "\n",
    "# This issue appears to be here\n",
    "X11_scaled = preprocessing.scale(X11)\n",
    "\n",
    "X11_train, X11_test, y11_train, y11_test = train_test_split(X11_scaled, y11, test_size=0.3, random_state=4444)"
   ]
  },
  {
   "cell_type": "code",
   "execution_count": 39,
   "metadata": {
    "collapsed": false
   },
   "outputs": [
    {
     "name": "stdout",
     "output_type": "stream",
     "text": [
      "KNN Accuracy: 0.481481481481\n"
     ]
    }
   ],
   "source": [
    "knn11 = KNeighborsClassifier(n_neighbors=5)\n",
    "knn11.fit(X11_train, y11_train)\n",
    "y11_pred = knn11.predict(X11_test)\n",
    "acc = accuracy_score(y11_test, y11_pred)\n",
    "print(\"KNN Accuracy: \" + str(acc))"
   ]
  },
  {
   "cell_type": "code",
   "execution_count": 40,
   "metadata": {
    "collapsed": false
   },
   "outputs": [
    {
     "ename": "ValueError",
     "evalue": "Target is multiclass but average='binary'. Please choose another average setting.",
     "output_type": "error",
     "traceback": [
      "\u001b[0;31m---------------------------------------------------------------------------\u001b[0m",
      "\u001b[0;31mValueError\u001b[0m                                Traceback (most recent call last)",
      "\u001b[0;32m<ipython-input-40-28feb3404d4e>\u001b[0m in \u001b[0;36m<module>\u001b[0;34m()\u001b[0m\n\u001b[0;32m----> 1\u001b[0;31m \u001b[0mprint\u001b[0m\u001b[0;34m(\u001b[0m\u001b[0;34m\"KNN Precision: \"\u001b[0m \u001b[0;34m+\u001b[0m \u001b[0mstr\u001b[0m\u001b[0;34m(\u001b[0m\u001b[0mmetrics\u001b[0m\u001b[0;34m.\u001b[0m\u001b[0mprecision_score\u001b[0m\u001b[0;34m(\u001b[0m\u001b[0my11_test\u001b[0m\u001b[0;34m,\u001b[0m \u001b[0my11_pred\u001b[0m\u001b[0;34m)\u001b[0m\u001b[0;34m)\u001b[0m\u001b[0;34m)\u001b[0m\u001b[0;34m\u001b[0m\u001b[0m\n\u001b[0m\u001b[1;32m      2\u001b[0m \u001b[0mprint\u001b[0m\u001b[0;34m(\u001b[0m\u001b[0;34m\"KNN Recall: \"\u001b[0m \u001b[0;34m+\u001b[0m \u001b[0mstr\u001b[0m\u001b[0;34m(\u001b[0m\u001b[0mmetrics\u001b[0m\u001b[0;34m.\u001b[0m\u001b[0mrecall_score\u001b[0m\u001b[0;34m(\u001b[0m\u001b[0my11_test\u001b[0m\u001b[0;34m,\u001b[0m \u001b[0my11_pred\u001b[0m\u001b[0;34m)\u001b[0m\u001b[0;34m)\u001b[0m\u001b[0;34m)\u001b[0m\u001b[0;34m\u001b[0m\u001b[0m\n",
      "\u001b[0;32m/Users/rosiehoyem/anaconda2/envs/py35/lib/python3.5/site-packages/sklearn/metrics/classification.py\u001b[0m in \u001b[0;36mprecision_score\u001b[0;34m(y_true, y_pred, labels, pos_label, average, sample_weight)\u001b[0m\n\u001b[1;32m   1237\u001b[0m                                                  \u001b[0maverage\u001b[0m\u001b[0;34m=\u001b[0m\u001b[0maverage\u001b[0m\u001b[0;34m,\u001b[0m\u001b[0;34m\u001b[0m\u001b[0m\n\u001b[1;32m   1238\u001b[0m                                                  \u001b[0mwarn_for\u001b[0m\u001b[0;34m=\u001b[0m\u001b[0;34m(\u001b[0m\u001b[0;34m'precision'\u001b[0m\u001b[0;34m,\u001b[0m\u001b[0;34m)\u001b[0m\u001b[0;34m,\u001b[0m\u001b[0;34m\u001b[0m\u001b[0m\n\u001b[0;32m-> 1239\u001b[0;31m                                                  sample_weight=sample_weight)\n\u001b[0m\u001b[1;32m   1240\u001b[0m     \u001b[0;32mreturn\u001b[0m \u001b[0mp\u001b[0m\u001b[0;34m\u001b[0m\u001b[0m\n\u001b[1;32m   1241\u001b[0m \u001b[0;34m\u001b[0m\u001b[0m\n",
      "\u001b[0;32m/Users/rosiehoyem/anaconda2/envs/py35/lib/python3.5/site-packages/sklearn/metrics/classification.py\u001b[0m in \u001b[0;36mprecision_recall_fscore_support\u001b[0;34m(y_true, y_pred, beta, labels, pos_label, average, warn_for, sample_weight)\u001b[0m\n\u001b[1;32m   1016\u001b[0m         \u001b[0;32melse\u001b[0m\u001b[0;34m:\u001b[0m\u001b[0;34m\u001b[0m\u001b[0m\n\u001b[1;32m   1017\u001b[0m             raise ValueError(\"Target is %s but average='binary'. Please \"\n\u001b[0;32m-> 1018\u001b[0;31m                              \"choose another average setting.\" % y_type)\n\u001b[0m\u001b[1;32m   1019\u001b[0m     \u001b[0;32melif\u001b[0m \u001b[0mpos_label\u001b[0m \u001b[0;32mnot\u001b[0m \u001b[0;32min\u001b[0m \u001b[0;34m(\u001b[0m\u001b[0;32mNone\u001b[0m\u001b[0;34m,\u001b[0m \u001b[0;36m1\u001b[0m\u001b[0;34m)\u001b[0m\u001b[0;34m:\u001b[0m\u001b[0;34m\u001b[0m\u001b[0m\n\u001b[1;32m   1020\u001b[0m         warnings.warn(\"Note that pos_label (set to %r) is ignored when \"\n",
      "\u001b[0;31mValueError\u001b[0m: Target is multiclass but average='binary'. Please choose another average setting."
     ]
    }
   ],
   "source": [
    "print(\"KNN Precision: \" + str(metrics.precision_score(y11_test, y11_pred)))\n",
    "print(\"KNN Recall: \" + str(metrics.recall_score(y11_test, y11_pred)))"
   ]
  },
  {
   "cell_type": "code",
   "execution_count": 41,
   "metadata": {
    "collapsed": false
   },
   "outputs": [
    {
     "name": "stdout",
     "output_type": "stream",
     "text": [
      "LogisticRegression Accuracy: 0.481481481481\n"
     ]
    }
   ],
   "source": [
    "logit11 = LogisticRegression()\n",
    "logit11_results = logit11.fit(X11_train, y11_train)\n",
    "y11_pred = logit11.predict(X11_test)\n",
    "acc = accuracy_score(y11_test, y11_pred)\n",
    "print(\"LogisticRegression Accuracy: \" + str(acc))"
   ]
  },
  {
   "cell_type": "code",
   "execution_count": 42,
   "metadata": {
    "collapsed": false
   },
   "outputs": [
    {
     "ename": "ValueError",
     "evalue": "Target is multiclass but average='binary'. Please choose another average setting.",
     "output_type": "error",
     "traceback": [
      "\u001b[0;31m---------------------------------------------------------------------------\u001b[0m",
      "\u001b[0;31mValueError\u001b[0m                                Traceback (most recent call last)",
      "\u001b[0;32m<ipython-input-42-28feb3404d4e>\u001b[0m in \u001b[0;36m<module>\u001b[0;34m()\u001b[0m\n\u001b[0;32m----> 1\u001b[0;31m \u001b[0mprint\u001b[0m\u001b[0;34m(\u001b[0m\u001b[0;34m\"KNN Precision: \"\u001b[0m \u001b[0;34m+\u001b[0m \u001b[0mstr\u001b[0m\u001b[0;34m(\u001b[0m\u001b[0mmetrics\u001b[0m\u001b[0;34m.\u001b[0m\u001b[0mprecision_score\u001b[0m\u001b[0;34m(\u001b[0m\u001b[0my11_test\u001b[0m\u001b[0;34m,\u001b[0m \u001b[0my11_pred\u001b[0m\u001b[0;34m)\u001b[0m\u001b[0;34m)\u001b[0m\u001b[0;34m)\u001b[0m\u001b[0;34m\u001b[0m\u001b[0m\n\u001b[0m\u001b[1;32m      2\u001b[0m \u001b[0mprint\u001b[0m\u001b[0;34m(\u001b[0m\u001b[0;34m\"KNN Recall: \"\u001b[0m \u001b[0;34m+\u001b[0m \u001b[0mstr\u001b[0m\u001b[0;34m(\u001b[0m\u001b[0mmetrics\u001b[0m\u001b[0;34m.\u001b[0m\u001b[0mrecall_score\u001b[0m\u001b[0;34m(\u001b[0m\u001b[0my11_test\u001b[0m\u001b[0;34m,\u001b[0m \u001b[0my11_pred\u001b[0m\u001b[0;34m)\u001b[0m\u001b[0;34m)\u001b[0m\u001b[0;34m)\u001b[0m\u001b[0;34m\u001b[0m\u001b[0m\n",
      "\u001b[0;32m/Users/rosiehoyem/anaconda2/envs/py35/lib/python3.5/site-packages/sklearn/metrics/classification.py\u001b[0m in \u001b[0;36mprecision_score\u001b[0;34m(y_true, y_pred, labels, pos_label, average, sample_weight)\u001b[0m\n\u001b[1;32m   1237\u001b[0m                                                  \u001b[0maverage\u001b[0m\u001b[0;34m=\u001b[0m\u001b[0maverage\u001b[0m\u001b[0;34m,\u001b[0m\u001b[0;34m\u001b[0m\u001b[0m\n\u001b[1;32m   1238\u001b[0m                                                  \u001b[0mwarn_for\u001b[0m\u001b[0;34m=\u001b[0m\u001b[0;34m(\u001b[0m\u001b[0;34m'precision'\u001b[0m\u001b[0;34m,\u001b[0m\u001b[0;34m)\u001b[0m\u001b[0;34m,\u001b[0m\u001b[0;34m\u001b[0m\u001b[0m\n\u001b[0;32m-> 1239\u001b[0;31m                                                  sample_weight=sample_weight)\n\u001b[0m\u001b[1;32m   1240\u001b[0m     \u001b[0;32mreturn\u001b[0m \u001b[0mp\u001b[0m\u001b[0;34m\u001b[0m\u001b[0m\n\u001b[1;32m   1241\u001b[0m \u001b[0;34m\u001b[0m\u001b[0m\n",
      "\u001b[0;32m/Users/rosiehoyem/anaconda2/envs/py35/lib/python3.5/site-packages/sklearn/metrics/classification.py\u001b[0m in \u001b[0;36mprecision_recall_fscore_support\u001b[0;34m(y_true, y_pred, beta, labels, pos_label, average, warn_for, sample_weight)\u001b[0m\n\u001b[1;32m   1016\u001b[0m         \u001b[0;32melse\u001b[0m\u001b[0;34m:\u001b[0m\u001b[0;34m\u001b[0m\u001b[0m\n\u001b[1;32m   1017\u001b[0m             raise ValueError(\"Target is %s but average='binary'. Please \"\n\u001b[0;32m-> 1018\u001b[0;31m                              \"choose another average setting.\" % y_type)\n\u001b[0m\u001b[1;32m   1019\u001b[0m     \u001b[0;32melif\u001b[0m \u001b[0mpos_label\u001b[0m \u001b[0;32mnot\u001b[0m \u001b[0;32min\u001b[0m \u001b[0;34m(\u001b[0m\u001b[0;32mNone\u001b[0m\u001b[0;34m,\u001b[0m \u001b[0;36m1\u001b[0m\u001b[0;34m)\u001b[0m\u001b[0;34m:\u001b[0m\u001b[0;34m\u001b[0m\u001b[0m\n\u001b[1;32m   1020\u001b[0m         warnings.warn(\"Note that pos_label (set to %r) is ignored when \"\n",
      "\u001b[0;31mValueError\u001b[0m: Target is multiclass but average='binary'. Please choose another average setting."
     ]
    }
   ],
   "source": [
    "print(\"KNN Precision: \" + str(metrics.precision_score(y11_test, y11_pred)))\n",
    "print(\"KNN Recall: \" + str(metrics.recall_score(y11_test, y11_pred)))"
   ]
  },
  {
   "cell_type": "markdown",
   "metadata": {},
   "source": [
    "**Challenge 5**\n",
    "\n",
    "Draw the ROC curve (and calculate AUC) for the logistic regression classifier from challenge 12."
   ]
  },
  {
   "cell_type": "code",
   "execution_count": null,
   "metadata": {
    "collapsed": true
   },
   "outputs": [],
   "source": []
  }
 ],
 "metadata": {
  "anaconda-cloud": {},
  "kernelspec": {
   "display_name": "Python [conda env:py35]",
   "language": "python",
   "name": "conda-env-py35-py"
  },
  "language_info": {
   "codemirror_mode": {
    "name": "ipython",
    "version": 3
   },
   "file_extension": ".py",
   "mimetype": "text/x-python",
   "name": "python",
   "nbconvert_exporter": "python",
   "pygments_lexer": "ipython3",
   "version": "3.5.2"
  }
 },
 "nbformat": 4,
 "nbformat_minor": 1
}
